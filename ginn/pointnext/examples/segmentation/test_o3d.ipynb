{
 "cells": [
  {
   "cell_type": "code",
   "execution_count": 4,
   "id": "20243df7",
   "metadata": {},
   "outputs": [
    {
     "name": "stdout",
     "output_type": "stream",
     "text": [
      "Point cloud assigned.\n"
     ]
    }
   ],
   "source": [
    "import open3d as o3d\n",
    "import numpy as np\n",
    "\n",
    "# Your exact points:\n",
    "points = np.array([\n",
    "    [5.856898, 1.114889, -0.4075012],\n",
    "    [5.721698, 1.7303138, -0.9947672],\n",
    "    [6.028867, 1.3971963, -1.2659545],\n",
    "    [6.0776834, 1.44237, -0.96539646],\n",
    "    [5.768222, 1.1050975, -1.0016618],\n",
    "    [6.0943255, 1.7427303, -0.7325675],\n",
    "    [5.909009, 1.1136808, -0.80918723],\n",
    "    [5.991858, 1.5400496, -0.47829473],\n",
    "    [5.3187127, 1.176836, -1.2948712],\n",
    "    [5.7898755, 1.7688133, -0.8526696]\n",
    "])\n",
    "\n",
    "# Ensure it's clean\n",
    "points = np.ascontiguousarray(points, dtype=np.float64)\n",
    "\n",
    "# Build safely\n",
    "pcd = o3d.geometry.PointCloud()\n",
    "pcd.points = o3d.utility.Vector3dVector(points)\n",
    "print(\"Point cloud assigned.\")\n"
   ]
  }
 ],
 "metadata": {
  "kernelspec": {
   "display_name": "ginn_env11",
   "language": "python",
   "name": "python3"
  },
  "language_info": {
   "codemirror_mode": {
    "name": "ipython",
    "version": 3
   },
   "file_extension": ".py",
   "mimetype": "text/x-python",
   "name": "python",
   "nbconvert_exporter": "python",
   "pygments_lexer": "ipython3",
   "version": "3.11.11"
  }
 },
 "nbformat": 4,
 "nbformat_minor": 5
}
