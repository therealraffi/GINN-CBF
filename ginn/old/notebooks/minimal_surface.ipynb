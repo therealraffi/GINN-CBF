{
 "cells": [
  {
   "cell_type": "markdown",
   "metadata": {},
   "source": [
    "# Plateau’s Problem (or minimal surface problem)\n",
    "\n",
    "This notebook provides an implementation of the Plateau's problem, which finds a minimal surface shape that connects a set of interfaces.\n",
    "More details on this example, can be found in [our paper](https://arxiv.org/abs/2402.14009), Sections 4.1 and A.2.\n",
    "\n",
    "### Imports and setup"
   ]
  },
  {
   "cell_type": "code",
   "execution_count": 1,
   "metadata": {},
   "outputs": [],
   "source": [
    "import numpy as np\n",
    "import matplotlib.pyplot as plt\n",
    "import torch\n",
    "from torch import nn\n",
    "from tqdm.notebook import trange\n",
    "import k3d\n",
    "\n",
    "device = 'cpu' ## TODO\n",
    "torch.set_default_device(device)"
   ]
  },
  {
   "cell_type": "markdown",
   "metadata": {},
   "source": [
    "### Define the boundary rectangles"
   ]
  },
  {
   "cell_type": "code",
   "execution_count": 2,
   "metadata": {},
   "outputs": [
    {
     "data": {
      "application/vnd.jupyter.widget-view+json": {
       "model_id": "fa888defa77b496882102dde484869c0",
       "version_major": 2,
       "version_minor": 0
      },
      "text/plain": [
       "Output()"
      ]
     },
     "metadata": {},
     "output_type": "display_data"
    }
   ],
   "source": [
    "def get_boundary_angled_rectangles(n=1000):\n",
    "    ls = lambda a,b : torch.linspace(a, b, n//8, device=device)\n",
    "    const = lambda c : c*torch.ones(n//8, device=device, dtype=torch.float32)\n",
    "    bndry = torch.hstack([\n",
    "        torch.vstack([ls(0,1), const(0), const(0)]),\n",
    "        torch.vstack([ls(0,1), const(1), const(0)]),\n",
    "        torch.vstack([const(0), const(0), ls(0,1)]),\n",
    "        torch.vstack([const(0), ls(0,1), const(1)]),\n",
    "        torch.vstack([const(0), const(1), ls(0,1)]),\n",
    "        torch.vstack([const(1), const(0), ls(0,1)]),\n",
    "        torch.vstack([const(1), ls(0,1), const(1)]),\n",
    "        torch.vstack([const(1), const(1), ls(0,1)]),\n",
    "        ]).T\n",
    "    return bndry\n",
    "\n",
    "pts_bndry = get_boundary_angled_rectangles()\n",
    "\n",
    "bounds = torch.vstack([pts_bndry.min(0).values, pts_bndry.max(0).values]).T\n",
    "\n",
    "fig = k3d.plot()\n",
    "fig += k3d.points(pts_bndry.cpu().detach(), color=0x00ff00, point_size=0.05)\n",
    "fig.display()"
   ]
  },
  {
   "cell_type": "markdown",
   "metadata": {},
   "source": [
    "### Define the network and derivatives\n",
    "\n",
    "Solving this problem requires access to first and second order derivatives wrt. the input $x$ of a neural network $f_\\theta(x)$ with parameters $\\theta$."
   ]
  },
  {
   "cell_type": "code",
   "execution_count": 3,
   "metadata": {},
   "outputs": [],
   "source": [
    "from torch import nn\n",
    "from torch import tanh\n",
    "\n",
    "class GeneralNet(nn.Module):\n",
    "    def __init__(self, ks, act=tanh):\n",
    "        super(GeneralNet, self).__init__()\n",
    "        self.ks = ks\n",
    "        self.fcs = nn.ModuleList([nn.Linear(in_features, out_features)\n",
    "            for in_features, out_features in zip(self.ks[:-1],self.ks[1:])])\n",
    "        self.D = len(self.fcs)\n",
    "        self.act = act\n",
    "\n",
    "    def forward(self, x):\n",
    "        x = self.fcs[0](x)\n",
    "        for i in range(2,self.D+1):\n",
    "            x = self.fcs[i-1](self.act(x))\n",
    "        return x"
   ]
  },
  {
   "cell_type": "code",
   "execution_count": 4,
   "metadata": {},
   "outputs": [],
   "source": [
    "from torch.func import vmap, jacrev, jacfwd, functional_call\n",
    "\n",
    "model = GeneralNet(ks=[3, 256, 256, 256, 1])\n",
    "\n",
    "params = dict(model.named_parameters())\n",
    "def f(params, x):\n",
    "    return functional_call(model, params, x)\n",
    "\n",
    "## Jacobian\n",
    "f_x = jacrev(f, argnums=1)  ## params, [nx] -> [ny, nx]\n",
    "vf_x = vmap(f_x, in_dims=(None, 0), out_dims=(0))  ## params, [bx, nx] -> [bx, ny, nx]\n",
    "## Hessian\n",
    "f_xx = jacfwd(f_x, argnums=1)  ## params, [nx] -> [ny, nx, nx]\n",
    "vf_xx = vmap(f_xx, in_dims=(None, 0), out_dims=(0))  ## params, [bx, nx] -> [bx, ny, nx, nx]"
   ]
  },
  {
   "cell_type": "markdown",
   "metadata": {},
   "source": [
    "### Define mean curvature function"
   ]
  },
  {
   "cell_type": "code",
   "execution_count": 5,
   "metadata": {},
   "outputs": [],
   "source": [
    "def get_mean_curvature(F, H):\n",
    "    '''\n",
    "    Mean-curvature in D-dimensions\n",
    "    F: grad(f) gradients, shape [N,D]\n",
    "    H: hess(f) Hessian, shape [N,D,D]\n",
    "\n",
    "    https://u.math.biu.ac.il/~katzmik/goldman05.pdf\n",
    "    For a shape implicitly defined by f<0:\n",
    "    - div(F/|F|) = -(FHF^T - |F|^2 tr(H)) / 2*|F|^3\n",
    "    In <=3D we can expand the formula, if we want to validate https://www.archives-ouvertes.fr/hal-01486547/document\n",
    "    fx, fy, fz = F.T\n",
    "    fxx, fxy, fxz, fyx, fyy, fyz, fzx, fzy, fzz = H.flatten(start_dim=1).T\n",
    "    k = (fx*fx*(fyy+fzz) + fy*fy*(fxx+fzz) + fz*fz*(fxx+fyy) - 2*(fx*fy*fxy+fx*fz*fxz+fy*fz*fyz)) / (2*(fx*fx+fy*fy+fz*fz).pow(3/2))\n",
    "    '''\n",
    "    ## Quadratic form\n",
    "    FHFT = torch.einsum('bi,bij,bj->b', F, H, F)\n",
    "    ## Trace of Hessian\n",
    "    trH = torch.einsum('bii->b', H)\n",
    "    ## Norm of gradient\n",
    "    N = F.square().sum(1).sqrt()\n",
    "    ## Mean-curvature\n",
    "    mean_curvatures = -(FHFT - N.pow(2)*trH) / (2*N.pow(3))\n",
    "    return mean_curvatures"
   ]
  },
  {
   "cell_type": "markdown",
   "metadata": {},
   "source": [
    "### Main training loop"
   ]
  },
  {
   "cell_type": "code",
   "execution_count": 7,
   "metadata": {},
   "outputs": [
    {
     "data": {
      "application/vnd.jupyter.widget-view+json": {
       "model_id": "ed5c7630db6e4fd09006313f67cbdf4f",
       "version_major": 2,
       "version_minor": 0
      },
      "text/plain": [
       "  0%|          | 0/10000 [00:00<?, ?it/s]"
      ]
     },
     "metadata": {},
     "output_type": "display_data"
    },
    {
     "data": {
      "image/png": "[encoded data removed]",
      "text/plain": [
       "<Figure size 640x480 with 1 Axes>"
      ]
     },
     "metadata": {},
     "output_type": "display_data"
    }
   ],
   "source": [
    "optim = torch.optim.Adam(model.parameters(), lr=1e-3)\n",
    "pts_corners = torch.tensor([\n",
    "    [0,0,0],\n",
    "    [1,0,0],\n",
    "    [1,0,1],\n",
    "    [1,1,1],\n",
    "    [1,1,0],\n",
    "    [0,1,0],\n",
    "    [0,1,1],\n",
    "    [0,0,1],\n",
    "    [0,0,0],\n",
    "    ], dtype=torch.float32)\n",
    "\n",
    "loss_over_iters = {}\n",
    "\n",
    "for i in (pbar:=trange(10000)):\n",
    "    optim.zero_grad()\n",
    "\n",
    "    ## 1) Interface at boundaries\n",
    "    loss_interface  = f(params, pts_bndry).square().mean()\n",
    "    loss_interface += 10*f(params, pts_corners).square().mean()\n",
    "    \n",
    "    ## 2) Eikonal at boundaries (or everywhere?)\n",
    "    loss_eikonal  = (vf_x(params, pts_bndry).squeeze(1).square().sum(1).sqrt() - 1).square().mean()\n",
    "    loss_eikonal += 10*(vf_x(params, pts_corners).squeeze(1).square().sum(1).sqrt() - 1).square().mean()\n",
    "\n",
    "    ## 3) Mean curvature on the 0-surface\n",
    "    if i<1000:\n",
    "        loss_curvature = torch.zeros([1,1])\n",
    "        pts = []\n",
    "    else:\n",
    "        ## Sample points on surface\n",
    "        pts = torch.rand([10000, 3])\n",
    "        vals_sq = model(pts).square().squeeze()\n",
    "        pts = pts[vals_sq<1e-4]\n",
    "        if len(pts):\n",
    "            Fs = vf_x(params, pts).squeeze(1)\n",
    "            Hs = vf_xx(params, pts).squeeze(1)\n",
    "            mean_curvatures = get_mean_curvature(Fs, Hs)\n",
    "            loss_curvature = mean_curvatures.square().mean()\n",
    "\n",
    "\n",
    "    loss = loss_interface + loss_eikonal + loss_curvature\n",
    "    loss.backward()\n",
    "    optim.step()\n",
    "\n",
    "    pbar.set_description(f\"interface: {loss_interface.item():.2e} \"\n",
    "                         f\"eikonal: {loss_eikonal.item():.2e} \"\n",
    "                         f\"curvature: {loss_curvature.item():.2e} \"\n",
    "                         f\"{len(pts)}\"\n",
    "                        )\n",
    "    loss_over_iters[i] = loss.item()\n",
    "\n",
    "plt.plot(loss_over_iters.keys(), loss_over_iters.values())\n",
    "plt.semilogy()\n",
    "plt.show()"
   ]
  },
  {
   "cell_type": "markdown",
   "metadata": {},
   "source": [
    "### Visualize the result"
   ]
  },
  {
   "cell_type": "code",
   "execution_count": 8,
   "metadata": {},
   "outputs": [],
   "source": [
    "import sys\n",
    "sys.path.append('..')\n",
    "from visualization.utils_mesh import get_mesh\n",
    "\n",
    "verts, faces = get_mesh(model, N=128, device=device, bbox_min=bounds[:,0]-.01, bbox_max=bounds[:,1]+.01, chunks=2)"
   ]
  },
  {
   "cell_type": "code",
   "execution_count": 9,
   "metadata": {},
   "outputs": [
    {
     "name": "stderr",
     "output_type": "stream",
     "text": [
      "/system/apps/userenv/radler/objgen/lib/python3.9/site-packages/traittypes/traittypes.py:97: UserWarning: Given trait value dtype \"int32\" does not match required type \"uint32\". A coerced copy has been created.\n",
      "  warnings.warn(\n"
     ]
    },
    {
     "data": {
      "application/vnd.jupyter.widget-view+json": {
       "model_id": "1a02cae28d0c4bdc9d3adfa84774ea7d",
       "version_major": 2,
       "version_minor": 0
      },
      "text/plain": [
       "Output()"
      ]
     },
     "metadata": {},
     "output_type": "display_data"
    }
   ],
   "source": [
    "color = 0xbbbbbb\n",
    "\n",
    "fig = k3d.plot(height=800, grid_visible=False, camera_fov=1.0)\n",
    "fig += k3d.mesh(verts, faces, color=color, side='double', flat_shading=False)\n",
    "fig += k3d.line(pts_corners.cpu(), color=0x00ff00, shader='mesh', radial_segments=4, opacity=.5)\n",
    "fig.display()"
   ]
  }
 ],
 "metadata": {
  "kernelspec": {
   "display_name": "py38",
   "language": "python",
   "name": "python3"
  },
  "language_info": {
   "codemirror_mode": {
    "name": "ipython",
    "version": 3
   },
   "file_extension": ".py",
   "mimetype": "text/x-python",
   "name": "python",
   "nbconvert_exporter": "python",
   "pygments_lexer": "ipython3",
   "version": "3.10.12"
  }
 },
 "nbformat": 4,
 "nbformat_minor": 2
}
