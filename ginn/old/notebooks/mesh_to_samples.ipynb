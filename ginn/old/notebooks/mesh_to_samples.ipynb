{
 "cells": [
  {
   "cell_type": "markdown",
   "metadata": {},
   "source": [
    "## Mesh to samples"
   ]
  },
  {
   "cell_type": "code",
   "execution_count": 1,
   "metadata": {},
   "outputs": [
    {
     "name": "stdout",
     "output_type": "stream",
     "text": [
      "/sfs/weka/scratch/rhm4nj/cral/cral-ginn/ginn/notebooks\n"
     ]
    }
   ],
   "source": [
    "! pwd"
   ]
  },
  {
   "cell_type": "code",
   "execution_count": 4,
   "metadata": {},
   "outputs": [],
   "source": [
    "import trimesh\n",
    "import k3d\n",
    "import numpy as np\n",
    "\n",
    "mydir = \"/scratch/rhm4nj/cral/cral-ginn/ginn\""
   ]
  },
  {
   "cell_type": "code",
   "execution_count": 5,
   "metadata": {},
   "outputs": [
    {
     "name": "stderr",
     "output_type": "stream",
     "text": [
      "/scratch/rhm4nj/.conda/new-ginn-env/lib/python3.13/site-packages/traittypes/traittypes.py:97: UserWarning: Given trait value dtype \"float64\" does not match required type \"float32\". A coerced copy has been created.\n",
      "  warnings.warn(\n",
      "/scratch/rhm4nj/.conda/new-ginn-env/lib/python3.13/site-packages/traittypes/traittypes.py:97: UserWarning: Given trait value dtype \"int64\" does not match required type \"uint32\". A coerced copy has been created.\n",
      "  warnings.warn(\n"
     ]
    },
    {
     "data": {
      "application/vnd.jupyter.widget-view+json": {
       "model_id": "7565aee8f7754e928fe70ca587ad8d54",
       "version_major": 2,
       "version_minor": 0
      },
      "text/plain": [
       "Output()"
      ]
     },
     "metadata": {},
     "output_type": "display_data"
    }
   ],
   "source": [
    "file_path = f\"{mydir}/GINN/simJEB/orig/411_for_envelope.obj\"\n",
    "mesh_jeb = trimesh.load(file_path)\n",
    "\n",
    "# Plotting using k3d\n",
    "plot = k3d.plot(name='SDF Points')\n",
    "plot += k3d.mesh(mesh_jeb.vertices, mesh_jeb.faces, color=0xff0000)\n",
    "plot.display()"
   ]
  },
  {
   "cell_type": "code",
   "execution_count": 6,
   "metadata": {},
   "outputs": [
    {
     "data": {
      "application/vnd.jupyter.widget-view+json": {
       "model_id": "7c7010b6c4ae4dbcb3727ead3f3dfa53",
       "version_major": 2,
       "version_minor": 0
      },
      "text/plain": [
       "Output()"
      ]
     },
     "metadata": {},
     "output_type": "display_data"
    }
   ],
   "source": [
    "file_path = f\"{mydir}/GINN/simJEB/orig/interfaces.stl\"\n",
    "mesh_jeb = trimesh.load(file_path)\n",
    "\n",
    "# Plotting using k3d\n",
    "plot = k3d.plot(name='SDF Points')\n",
    "plot += k3d.mesh(mesh_jeb.vertices, mesh_jeb.faces, color=0xff0000)\n",
    "plot.display()"
   ]
  },
  {
   "cell_type": "code",
   "execution_count": 8,
   "metadata": {},
   "outputs": [
    {
     "name": "stdout",
     "output_type": "stream",
     "text": [
      "Collecting rtree\n",
      "  Using cached Rtree-1.3.0-py3-none-manylinux2014_x86_64.manylinux_2_17_x86_64.whl.metadata (2.1 kB)\n",
      "Using cached Rtree-1.3.0-py3-none-manylinux2014_x86_64.manylinux_2_17_x86_64.whl (543 kB)\n",
      "Installing collected packages: rtree\n",
      "Successfully installed rtree-1.3.0\n",
      "Mesh bounds min: [-3.92288017e+01 -1.63356995e+02 -1.18000000e-12]\n",
      "Mesh bounds max: [67.32998657 16.81476021 62.50405884]\n",
      "Mesh centroid: [ 16.91079892 -71.23308014  19.42698404]\n",
      "Translation vector: [ 14.05059242 -73.27111721  31.25202942]\n",
      "Scale factor: 90.08587741851807\n",
      "Bounds: [[-3.92288017e+01 -1.63356995e+02 -1.18000000e-12]\n",
      " [ 6.73299866e+01  1.68147602e+01  6.25040588e+01]]\n",
      "Time after sampling points: 0.0 seconds\n",
      "Time after computing SDF: 98.7 seconds\n",
      "Number of points far outside: 1427\n",
      "Number of points outside: 917\n",
      "Number of points inside: 656\n",
      "Time after computing inside/outside points: 98.7 seconds\n",
      "Time after sampling points on envelope: 98.7 seconds\n",
      "Time after computing SDF from envelope to interface: 98.9 seconds\n",
      "Time after removing points on envelope close to interface: 98.9 seconds\n",
      "Time after sampling interface points: 98.9 seconds\n",
      "Time after computing points around interface outside envelope: 115.2 seconds\n",
      "Iteration 0 took 115.2 seconds\n",
      "Time after sampling points: 0.0 seconds\n"
     ]
    }
   ],
   "source": [
    "!pip install rtree\n",
    "\n",
    "from math import dist\n",
    "import time\n",
    "import trimesh\n",
    "import numpy as np\n",
    "import k3d\n",
    "from matplotlib import cm\n",
    "\n",
    "file_path = f\"{mydir}/GINN/simJEB/orig/411_for_envelope.obj\"\n",
    "mesh_jeb = trimesh.load(file_path)\n",
    "\n",
    "# load interface mesh\n",
    "file_path = f\"{mydir}/GINN/simJEB/orig/interfaces.stl\"\n",
    "mesh_if = trimesh.load(file_path)\n",
    "\n",
    "# sample from surface of mesh\n",
    "n_iter = 2\n",
    "n_pts_in_and_out = 3 * 10 ** 3  # ca. 1/3 of the points will be inside the mesh, 1/3 close to the envelope, 1/3 outside\n",
    "n_pts_on_envelope = 10 ** 3\n",
    "n_pts_interface = 10 ** 3\n",
    "outside_env_size = 10\n",
    "eps_remove_pts_on_env = 0.1  # remove points on the envelope close to the interface\n",
    "n_pts_around_interface_outside_env = 10 ** 3\n",
    "dist_range_pts_around_if = [-15, 15]\n",
    "outside_env_size_for_pts_around_if = 15\n",
    "\n",
    "assert n_pts_around_interface_outside_env % n_pts_interface == 0, 'n_pts_around_interface_outside_env must be a multiple of n_pts_interface'\n",
    "\n",
    "#Plotting\n",
    "point_size = 0.1\n",
    "# sample_points, face_idx = mesh.sample(n_pts_in_and_out, return_index=True)\n",
    "bbox_min, bbox_max = mesh_jeb.bounds\n",
    "print('Mesh bounds min:', bbox_min)\n",
    "print('Mesh bounds max:', bbox_max)\n",
    "print('Mesh centroid:', mesh_jeb.centroid)\n",
    "center_for_translation = (bbox_max + bbox_min) / 2\n",
    "print('Translation vector:', center_for_translation)\n",
    "scale_factor = max(bbox_max - bbox_min) / 2\n",
    "print('Scale factor:', scale_factor)\n",
    "bounds = np.stack([bbox_min, bbox_max])\n",
    "print('Bounds:', bounds)\n",
    "\n",
    "pts_far_outside_list = []\n",
    "pts_inside_list = []\n",
    "pts_on_env_list = []\n",
    "pts_outside_list = []\n",
    "if_points_list = []\n",
    "if_normals_list = []\n",
    "pts_around_interface_outside_env_list = []\n",
    "for iter in range(n_iter):\n",
    "    t_start = time.time()\n",
    "    bounds_points = np.random.uniform(low=bbox_min - outside_env_size, high=bbox_max + outside_env_size, size=(n_pts_in_and_out, 3))\n",
    "    print(f'Time after sampling points: {time.time() - t_start:.1f} seconds')\n",
    "    \n",
    "    # Get the signed distance for each point\n",
    "    # According to the docs, the sign of the distance is negative if the point is outside the mesh\n",
    "    # Revert the sign to adjust to our convention\n",
    "    # https://github.com/mikedh/trimesh/blob/main/trimesh/proximity.py\n",
    "    sdf_bounds_pts = (-1) * trimesh.proximity.signed_distance(mesh_jeb, bounds_points)\n",
    "    print(f'Time after computing SDF: {time.time() - t_start:.1f} seconds')\n",
    "\n",
    "    mask_far_outside = sdf_bounds_pts > outside_env_size\n",
    "    pts_far_outside = bounds_points[mask_far_outside]\n",
    "    print('Number of points far outside:', len(pts_far_outside))\n",
    "\n",
    "    mask_within_close_to_env = sdf_bounds_pts < outside_env_size\n",
    "    pts_within_close_to_env = bounds_points[mask_within_close_to_env]\n",
    "    sdf_bounds_pts = sdf_bounds_pts[mask_within_close_to_env]\n",
    "    del bounds_points  # free memory\n",
    "\n",
    "    ## outside points\n",
    "    idcs_outside = np.where(sdf_bounds_pts > 0)[0]\n",
    "    pts_outside = pts_within_close_to_env[idcs_outside]\n",
    "    sdf_outside = sdf_bounds_pts[idcs_outside]\n",
    "    print('Number of points outside:', len(pts_outside))\n",
    "\n",
    "    ## inside points\n",
    "    idcs_inside = np.where(sdf_bounds_pts < 0)[0]\n",
    "    pts_inside = pts_within_close_to_env[idcs_inside]\n",
    "    sdf_inside = sdf_bounds_pts[idcs_inside]\n",
    "    print('Number of points inside:', len(pts_inside))\n",
    "    print(f'Time after computing inside/outside points: {time.time() - t_start:.1f} seconds')\n",
    "\n",
    "    # remove points on the envelope close to the interface\n",
    "    pts_on_env = mesh_jeb.sample(n_pts_on_envelope)\n",
    "    print(f'Time after sampling points on envelope: {time.time() - t_start:.1f} seconds')\n",
    "    sdf_env_to_interface = trimesh.proximity.signed_distance(mesh_if, pts_on_env)\n",
    "    print(f'Time after computing SDF from envelope to interface: {time.time() - t_start:.1f} seconds')\n",
    "    idcs = np.where(np.abs(sdf_env_to_interface) > eps_remove_pts_on_env)[0]\n",
    "    pts_on_env = pts_on_env[idcs]\n",
    "    print(f'Time after removing points on envelope close to interface: {time.time() - t_start:.1f} seconds')\n",
    "\n",
    "    ## Sample points and determine the normals from the corresponding faces\n",
    "    ## From https://github.com/mikedh/trimesh/issues/1285#issuecomment-880854466\n",
    "    if_points, face_idx = mesh_if.sample(n_pts_interface, return_index=True)\n",
    "    if_normals = mesh_if.face_normals[face_idx]\n",
    "    print(f'Time after sampling interface points: {time.time() - t_start:.1f} seconds')\n",
    "    \n",
    "    # points around the interface in the envelope\n",
    "    pts_around_interface_outside_env = np.repeat(if_points, n_pts_around_interface_outside_env // n_pts_interface, axis=0) + np.random.uniform(low=dist_range_pts_around_if[0], high=dist_range_pts_around_if[1], size=(n_pts_around_interface_outside_env, 3))\n",
    "    sdf_around_interface_outside_env = (-1) * trimesh.proximity.signed_distance(mesh_jeb, pts_around_interface_outside_env)\n",
    "    pts_around_interface_outside_env = pts_around_interface_outside_env[np.where((sdf_around_interface_outside_env > 0) & (sdf_around_interface_outside_env < outside_env_size_for_pts_around_if))[0]]\n",
    "    sdf_close_to_interface = (-1) * trimesh.proximity.signed_distance(mesh_if, pts_around_interface_outside_env)\n",
    "    pts_around_interface_outside_env = pts_around_interface_outside_env[np.where(np.abs(sdf_close_to_interface) > eps_remove_pts_on_env)[0]]\n",
    "    print(f'Time after computing points around interface outside envelope: {time.time() - t_start:.1f} seconds')\n",
    "    \n",
    "    pts_far_outside_list.append(pts_far_outside)\n",
    "    pts_inside_list.append(pts_inside)\n",
    "    pts_on_env_list.append(pts_on_env)\n",
    "    pts_outside_list.append(pts_outside)\n",
    "    if_points_list.append(if_points)\n",
    "    if_normals_list.append(if_normals)\n",
    "    pts_around_interface_outside_env_list.append(pts_around_interface_outside_env)\n",
    "    \n",
    "    print(f'Iteration {iter} took {time.time() - t_start:.1f} seconds')\n",
    "\n",
    "pts_far_outside = np.concatenate(pts_far_outside_list)\n",
    "pts_inside = np.concatenate(pts_inside_list)\n",
    "pts_on_env = np.concatenate(pts_on_env_list)\n",
    "pts_outside = np.concatenate(pts_outside_list)\n",
    "if_points = np.concatenate(if_points_list)\n",
    "if_normals = np.concatenate(if_normals_list)\n",
    "pts_around_interface_outside_env = np.concatenate(pts_around_interface_outside_env_list)\n",
    "\n",
    "## Plotting\n",
    "# Normalize the signed distances to [0, 1] for colormap mapping\n",
    "normalized_distances = (sdf_outside - sdf_outside.min()) / (sdf_outside.max() - sdf_outside.min())\n",
    "colors = cm.viridis(normalized_distances)  # Using the viridis colormap\n",
    "colors_hex = [int('0x{:02x}{:02x}{:02x}'.format(int(r*255), int(g*255), int(b*255)), 16) for r, g, b, a in colors]\n",
    "\n",
    "## Save points to file\n",
    "## transpose to match the convention of the other code\n",
    "# bounds = bounds.T\n",
    "# print('saving bounds:', bounds)\n",
    "# np.save('simJEB/bounds.npy', bounds)\n",
    "# print('saving pts_far_outside:', pts_far_outside.shape)\n",
    "# np.save('simJEB/pts_far_outside.npy', pts_far_outside)\n",
    "# print('saving pts_outside:', pts_outside.shape)\n",
    "# np.save('simJEB/pts_outside.npy', pts_outside)\n",
    "# print('saving pts_inside:', pts_inside.shape)\n",
    "# np.save('simJEB/pts_inside.npy', pts_inside)\n",
    "# print('saving pts_on_env:', pts_on_env.shape)\n",
    "# np.save('simJEB/pts_on_env.npy', pts_on_env)\n",
    "# np.save('simJEB/center_for_translation.npy', center_for_translation)\n",
    "# np.save('simJEB/scale_factor.npy', scale_factor)\n",
    "\n",
    "\n",
    "# save the points and normals to a file\n",
    "# print('saving if_points:', if_points.shape)\n",
    "# np.save(\"simJEB/interface_points.npy\", if_points)\n",
    "# print('saving if_normals:', if_normals.shape)\n",
    "# np.save(\"simJEB/interface_normals.npy\", if_normals)\n",
    "\n",
    "# print('saving pts_around_interface_outside_env:', pts_around_interface_outside_env.shape)\n",
    "# np.save(\"simJEB/pts_around_interface_outside_env.npy\", pts_around_interface_outside_env)"
   ]
  },
  {
   "cell_type": "code",
   "execution_count": null,
   "metadata": {},
   "outputs": [],
   "source": [
    "# # ## normalize the points\n",
    "# bounds = (bounds - center_for_translation) / scale_factor\n",
    "# pts_far_outside = (pts_far_outside - center_for_translation) / scale_factor\n",
    "# pts_outside = (pts_outside - center_for_translation) / scale_factor\n",
    "# pts_inside = (pts_inside - center_for_translation) / scale_factor\n",
    "# pts_on_env = (pts_on_env - center_for_translation) / scale_factor\n",
    "# if_points = (if_points - center_for_translation) / scale_factor\n",
    "# pts_around_interface_outside_env = (pts_around_interface_outside_env - center_for_translation) / scale_factor"
   ]
  },
  {
   "cell_type": "code",
   "execution_count": null,
   "metadata": {},
   "outputs": [
    {
     "name": "stderr",
     "output_type": "stream",
     "text": [
      "/home/rhm4nj/.local/lib/python3.11/site-packages/traittypes/traittypes.py:97: UserWarning: Given trait value dtype \"float64\" does not match required type \"float32\". A coerced copy has been created.\n",
      "  warnings.warn(\n"
     ]
    },
    {
     "data": {
      "application/vnd.jupyter.widget-view+json": {
       "model_id": "fdc4bfcd2e2b463987608223ae42317b",
       "version_major": 2,
       "version_minor": 0
      },
      "text/plain": [
       "Output()"
      ]
     },
     "metadata": {},
     "output_type": "display_data"
    }
   ],
   "source": [
    "# Plotting using k3d\n",
    "plot = k3d.plot(name='SDF Points')\n",
    "\n",
    "# envelope\n",
    "plot += k3d.points(positions=pts_far_outside, point_size=point_size, color=0x000000, name='far outside') # black\n",
    "plot += k3d.points(positions=pts_outside, point_size=point_size, color=0xff0000, name='outside') # red\n",
    "plot += k3d.points(positions=pts_on_env, point_size=point_size, color=0x0000ff, name='on envelope') # blue\n",
    "plot += k3d.points(pts_around_interface_outside_env, point_size=point_size, color=0xff00ff, name='around interface outside envelope') # magenta\n",
    "\n",
    "plot.display()"
   ]
  },
  {
   "cell_type": "code",
   "execution_count": null,
   "metadata": {},
   "outputs": [
    {
     "data": {
      "application/vnd.jupyter.widget-view+json": {
       "model_id": "40b5a3533e1f4a438ab5b56a725e17fe",
       "version_major": 2,
       "version_minor": 0
      },
      "text/plain": [
       "Output()"
      ]
     },
     "metadata": {},
     "output_type": "display_data"
    }
   ],
   "source": [
    "# Plotting using k3d\n",
    "plot = k3d.plot(name='SDF Points')\n",
    "\n",
    "# domain\n",
    "plot += k3d.points(positions=pts_inside, point_size=point_size, color=0x00ff00, name='inside')\n",
    "\n",
    "plot.display()"
   ]
  },
  {
   "cell_type": "code",
   "execution_count": null,
   "metadata": {},
   "outputs": [
    {
     "data": {
      "application/vnd.jupyter.widget-view+json": {
       "model_id": "e24df4b2b468446a8b049346ddafba24",
       "version_major": 2,
       "version_minor": 0
      },
      "text/plain": [
       "Output()"
      ]
     },
     "metadata": {},
     "output_type": "display_data"
    }
   ],
   "source": [
    "# Plotting using k3d\n",
    "plot = k3d.plot(name='SDF Points')\n",
    "\n",
    "# interface\n",
    "plot += k3d.points(if_points, point_size=point_size, color=0x888888, name='interface points')\n",
    "plot += k3d.vectors(if_points, if_normals, color=0x444444, name='interface normals')\n",
    "\n",
    "plot.display()"
   ]
  },
  {
   "cell_type": "code",
   "execution_count": null,
   "metadata": {},
   "outputs": [
    {
     "ename": "FileNotFoundError",
     "evalue": "[Errno 2] No such file or directory: 'simJEB/bounds.npy'",
     "output_type": "error",
     "traceback": [
      "\u001b[0;31m---------------------------------------------------------------------------\u001b[0m",
      "\u001b[0;31mFileNotFoundError\u001b[0m                         Traceback (most recent call last)",
      "Cell \u001b[0;32mIn[10], line 3\u001b[0m\n\u001b[1;32m      1\u001b[0m \u001b[39m# check shapes of saved files\u001b[39;00m\n\u001b[0;32m----> 3\u001b[0m \u001b[39mprint\u001b[39m(\u001b[39m'\u001b[39m\u001b[39mbounds:\u001b[39m\u001b[39m'\u001b[39m, np\u001b[39m.\u001b[39;49mload(\u001b[39m'\u001b[39;49m\u001b[39msimJEB/bounds.npy\u001b[39;49m\u001b[39m'\u001b[39;49m)\u001b[39m.\u001b[39mshape)\n\u001b[1;32m      4\u001b[0m \u001b[39mprint\u001b[39m(\u001b[39m'\u001b[39m\u001b[39mpts_far_outside:\u001b[39m\u001b[39m'\u001b[39m, np\u001b[39m.\u001b[39mload(\u001b[39m'\u001b[39m\u001b[39msimJEB/pts_far_outside.npy\u001b[39m\u001b[39m'\u001b[39m)\u001b[39m.\u001b[39mshape)\n\u001b[1;32m      5\u001b[0m \u001b[39mprint\u001b[39m(\u001b[39m'\u001b[39m\u001b[39mpts_outside:\u001b[39m\u001b[39m'\u001b[39m, np\u001b[39m.\u001b[39mload(\u001b[39m'\u001b[39m\u001b[39msimJEB/pts_outside.npy\u001b[39m\u001b[39m'\u001b[39m)\u001b[39m.\u001b[39mshape)\n",
      "File \u001b[0;32m/scratch/rhm4nj/.conda/ginn-env-cond/lib/python3.11/site-packages/numpy/lib/npyio.py:427\u001b[0m, in \u001b[0;36mload\u001b[0;34m(file, mmap_mode, allow_pickle, fix_imports, encoding, max_header_size)\u001b[0m\n\u001b[1;32m    425\u001b[0m     own_fid \u001b[39m=\u001b[39m \u001b[39mFalse\u001b[39;00m\n\u001b[1;32m    426\u001b[0m \u001b[39melse\u001b[39;00m:\n\u001b[0;32m--> 427\u001b[0m     fid \u001b[39m=\u001b[39m stack\u001b[39m.\u001b[39menter_context(\u001b[39mopen\u001b[39;49m(os_fspath(file), \u001b[39m\"\u001b[39;49m\u001b[39mrb\u001b[39;49m\u001b[39m\"\u001b[39;49m))\n\u001b[1;32m    428\u001b[0m     own_fid \u001b[39m=\u001b[39m \u001b[39mTrue\u001b[39;00m\n\u001b[1;32m    430\u001b[0m \u001b[39m# Code to distinguish from NumPy binary files and pickles.\u001b[39;00m\n",
      "\u001b[0;31mFileNotFoundError\u001b[0m: [Errno 2] No such file or directory: 'simJEB/bounds.npy'"
     ]
    }
   ],
   "source": [
    "# check shapes of saved files\n",
    "\n",
    "print('bounds:', np.load('simJEB/bounds.npy').shape)\n",
    "print('pts_far_outside:', np.load('simJEB/pts_far_outside.npy').shape)\n",
    "print('pts_outside:', np.load('simJEB/pts_outside.npy').shape)\n",
    "print('pts_inside:', np.load('simJEB/pts_inside.npy').shape)\n",
    "print('pts_on_env:', np.load('simJEB/pts_on_env.npy').shape)\n",
    "print('center_for_translation:', np.load('simJEB/center_for_translation.npy').shape)\n",
    "print('scale_factor:', np.load('simJEB/scale_factor.npy').shape)\n",
    "print('if_points:', np.load('simJEB/interface_points.npy').shaape)\n",
    "print('if_normals:', np.load('simJEB/interface_normals.npy').shape)\n",
    "print('pts_around_interface_outside_env:', np.load('simJEB/pts_around_interface_outside_env_5mm.npy').shape)"
   ]
  }
 ],
 "metadata": {
  "interpreter": {
   "hash": "6f2d0f544e56e90c4fbae3199980bdd4e4230a39e6d0a729a7d0b2a70605f92f"
  },
  "kernelspec": {
   "display_name": "Python 3.8.5 ('base')",
   "language": "python",
   "name": "python3"
  },
  "language_info": {
   "codemirror_mode": {
    "name": "ipython",
    "version": 3
   },
   "file_extension": ".py",
   "mimetype": "text/x-python",
   "name": "python",
   "nbconvert_exporter": "python",
   "pygments_lexer": "ipython3",
   "version": "3.13.1"
  },
  "orig_nbformat": 4
 },
 "nbformat": 4,
 "nbformat_minor": 2
}
