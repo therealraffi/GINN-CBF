{
 "cells": [
  {
   "cell_type": "code",
   "execution_count": 2,
   "metadata": {},
   "outputs": [
    {
     "name": "stderr",
     "output_type": "stream",
     "text": [
      "/sfs/weka/scratch/rhm4nj/cral/cral-ginn/ginn/neural_clbf/neural_clbf/systems/f16.py:22: UserWarning: Could not import F16 module; is AeroBench installed?\n",
      "  warn(\"Could not import F16 module; is AeroBench installed?\")\n",
      "/home/rhm4nj/.local/lib/python3.11/site-packages/transformers/utils/generic.py:441: FutureWarning: `torch.utils._pytree._register_pytree_node` is deprecated. Please use `torch.utils._pytree.register_pytree_node` instead.\n",
      "  _torch_pytree._register_pytree_node(\n",
      "/sfs/weka/scratch/rhm4nj/cral/cral-ginn/ginn/neural_clbf/neural_clbf/experiments/__init__.py:44: UserWarning: Could not import HW module; is ROS installed?\n",
      "  warn(\"Could not import HW module; is ROS installed?\")\n"
     ]
    }
   ],
   "source": [
    "import torch\n",
    "import torch.nn as nn\n",
    "\n",
    "from GINN.problem_sampler import ProblemSampler\n",
    "from train.train_utils.latent_sampler import sample_new_z\n",
    "from utils import get_stateless_net_with_partials, get_model\n",
    "from neural_clbf.controllers.simple_neural_cbf_controller import SimpleNeuralCBFController\n",
    "from neural_clbf.systems.simple3d import Simple3DRobot\n",
    "from configs.get_adapter_config import build_config\n",
    "from configs.get_config import get_config_from_yml\n",
    "from models.model_utils import tensor_product_xz\n",
    "from train.train_utils.loss_optims import GradNormBalancer\n",
    "from torch.utils.tensorboard import SummaryWriter\n",
    "\n",
    "import subprocess\n",
    "import time\n",
    "from datetime import datetime\n",
    "import os\n",
    "from copy import deepcopy\n",
    "from tqdm import trange\n",
    "from collections import defaultdict\n",
    "import yaml\n",
    "\n",
    "from adapter_model import LossTimer, ConditionalSIRENWithAdapter, AdapterMLP, create_adapter_mlp\n"
   ]
  },
  {
   "cell_type": "code",
   "execution_count": 3,
   "metadata": {},
   "outputs": [],
   "source": [
    "def load_yaml_to_dict(filename: str) -> dict:\n",
    "    with open(filename, 'r') as file:\n",
    "        data = yaml.safe_load(file)\n",
    "    return data"
   ]
  },
  {
   "cell_type": "code",
   "execution_count": 6,
   "metadata": {},
   "outputs": [
    {
     "name": "stdout",
     "output_type": "stream",
     "text": [
      "Loaded config from /scratch/rhm4nj/cral/cral-ginn/ginn/configs/adapter_config.yml\n"
     ]
    }
   ],
   "source": [
    "adapter_config_path = \"/scratch/rhm4nj/cral/cral-ginn/ginn/configs/adapter_config.yml\"\n",
    "device='cuda'\n",
    "\n",
    "# Load and initialize models\n",
    "def get_adapter_model(config_path):\n",
    "    config = load_yaml_to_dict(adapter_config_path)\n",
    "    config_siren = get_config_from_yml(config[\"paths\"][\"siren_config_path\"])\n",
    "    config_siren[\"device\"] = device\n",
    "\n",
    "    siren_model = get_model(config_siren).to(device)\n",
    "    siren_model.load_state_dict(torch.load(config[\"paths\"][\"pretrained_siren_path\"], map_location=device))\n",
    "\n",
    "    final_layer_size = list(siren_model.network.children())[-3].out_features\n",
    "    layer_sizes = [final_layer_size] + config[\"training\"][\"adapter_mid_layers\"]\n",
    "    activation_name = config[\"training\"][\"activation_name\"]\n",
    "\n",
    "    adapter_model = create_adapter_mlp(layer_sizes, activation_name=activation_name, siren_config=config_siren).to(device)\n",
    "    model = ConditionalSIRENWithAdapter(siren_model, adapter_model).to(device)\n",
    "    return model\n",
    "\n",
    "model = get_adapter_model(adapter_config_path)"
   ]
  }
 ],
 "metadata": {
  "kernelspec": {
   "display_name": "ginn_env11",
   "language": "python",
   "name": "python3"
  },
  "language_info": {
   "codemirror_mode": {
    "name": "ipython",
    "version": 3
   },
   "file_extension": ".py",
   "mimetype": "text/x-python",
   "name": "python",
   "nbconvert_exporter": "python",
   "pygments_lexer": "ipython3",
   "version": "3.11.11"
  }
 },
 "nbformat": 4,
 "nbformat_minor": 2
}
