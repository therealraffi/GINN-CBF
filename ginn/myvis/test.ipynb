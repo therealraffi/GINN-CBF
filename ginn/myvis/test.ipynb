{
 "cells": [
  {
   "cell_type": "code",
   "execution_count": 5,
   "metadata": {},
   "outputs": [],
   "source": [
    "import numpy as np\n",
    "import torch\n",
    "from scipy.spatial import KDTree\n",
    "import time"
   ]
  },
  {
   "cell_type": "code",
   "execution_count": 48,
   "metadata": {},
   "outputs": [
    {
     "name": "stdout",
     "output_type": "stream",
     "text": [
      "ptcld (9557, 3)\n",
      "inp ptcld (136, 3)\n",
      "[ True  True  True  True False False  True  True  True  True  True  True\n",
      "  True  True  True  True  True  True  True  True  True  True  True  True\n",
      "  True  True  True  True  True  True  True  True  True  True  True  True\n",
      "  True  True  True  True  True  True  True  True  True  True  True  True\n",
      "  True  True  True  True  True  True  True  True False  True  True  True\n",
      "  True  True  True  True  True  True  True  True  True  True  True  True\n",
      "  True  True False  True  True  True  True  True  True  True  True  True\n",
      "  True  True  True  True  True  True  True  True  True  True  True  True\n",
      "  True False  True  True  True  True  True  True  True  True  True  True\n",
      "  True  True  True  True  True  True  True  True  True  True  True  True\n",
      "  True  True  True  True  True  True  True  True  True  True  True  True\n",
      "  True  True  True  True]\n",
      "[0.04878272 0.03877899 0.07644777 0.07411084        inf        inf\n",
      " 0.05238795 0.05653458 0.03223264 0.06421957 0.08901026 0.04089296\n",
      " 0.06416999 0.08356636 0.03273364 0.05339935 0.01304855 0.03400899\n",
      " 0.04997409 0.04259471 0.03970105 0.065202   0.02537378 0.04425444\n",
      " 0.0286593  0.05544006 0.05443478 0.04406892 0.0186327  0.03514416\n",
      " 0.04545447 0.03440816 0.05646073 0.04587665 0.02923669 0.07806391\n",
      " 0.07401959 0.07418468 0.05168194 0.02009564 0.0532176  0.06488804\n",
      " 0.02847795 0.04642797 0.04619811 0.03095489 0.04173612 0.01147107\n",
      " 0.03544814 0.08673147 0.03149163 0.0761673  0.02871453 0.0204487\n",
      " 0.05032708 0.06163697        inf 0.09847188 0.02269825 0.03962039\n",
      " 0.07675452 0.08212493 0.067918   0.0574486  0.06768889 0.06462605\n",
      " 0.06523024 0.04962628 0.01860908 0.06257013 0.01979651 0.02952712\n",
      " 0.04838811 0.07055406        inf 0.05814435 0.06271458 0.07080478\n",
      " 0.05518791 0.05342482 0.04872273 0.07754773 0.02930632 0.0713276\n",
      " 0.01424405 0.02395228 0.05491573 0.06736231 0.06676346 0.06243868\n",
      " 0.0423917  0.04093352 0.06565922 0.04477042 0.03017392 0.04457667\n",
      " 0.03866072        inf 0.05778082 0.04312748 0.04937865 0.02513981\n",
      " 0.02029145 0.0436202  0.03926444 0.02354082 0.04585804 0.05543891\n",
      " 0.01324456 0.0553575  0.05258731 0.0371514  0.02163466 0.05717821\n",
      " 0.04300501 0.03912994 0.05644142 0.02620033 0.05251077 0.02713551\n",
      " 0.09161379 0.07675764 0.04293771 0.02381271 0.04674597 0.02748073\n",
      " 0.06436614 0.05312931 0.0670912  0.06502747 0.03160289 0.05314579\n",
      " 0.06759877 0.09824989 0.0467163  0.04726228]\n",
      "Time taken: 0.004163265228271484\n"
     ]
    }
   ],
   "source": [
    "import torch\n",
    "import numpy as np\n",
    "from scipy.spatial import KDTree\n",
    "import time\n",
    "\n",
    "# Load the numpy point cloud\n",
    "# numpy_point_cloud = (np.load(f'/scratch/rhm4nj/cral/ginn/myvis/cube/pts_on_env.npy'))\n",
    "# numpy_point_cloud = np.vstack(((numpy_point_cloud, np.load(f'/scratch/rhm4nj/cral/ginn/myvis/cube/pts_inside.npy'))))\n",
    "\n",
    "# # Example tensor of points to check (N x 3)\n",
    "# tensor_points = torch.rand(5, 3)  # A tensor with 100 3D points\n",
    "# tensor_points_np = tensor_points.cpu().numpy()\n",
    "\n",
    "numpy_point_cloud = np.load('/scratch/rhm4nj/cral/ginn/ptcld.npy')\n",
    "tensor_points_np = np.load('/scratch/rhm4nj/cral/ginn/inp_ptcld.npy')\n",
    "print(\"ptcld\", numpy_point_cloud.shape)\n",
    "print(\"inp ptcld\", tensor_points_np.shape)\n",
    "\n",
    "start_time = time.time()\n",
    "\n",
    "kdtree = KDTree(numpy_point_cloud)\n",
    "tolerance = 1e-1  # Adjust as needed\n",
    "distances, _ = kdtree.query(tensor_points_np, distance_upper_bound=tolerance)\n",
    "inside_points_mask = distances != np.inf  # True for points inside or near the point cloud\n",
    "\n",
    "inside_points = tensor_points_np[inside_points_mask]\n",
    "outisde_points = tensor_points_np[~inside_points_mask]\n",
    "print(inside_points_mask)\n",
    "print(distances)\n",
    "\n",
    "print(\"Time taken:\", time.time() - start_time)"
   ]
  },
  {
   "cell_type": "code",
   "execution_count": 49,
   "metadata": {},
   "outputs": [
    {
     "data": {
      "application/vnd.jupyter.widget-view+json": {
       "model_id": "72be6a7b18154c16868f36144a71b98c",
       "version_major": 2,
       "version_minor": 0
      },
      "text/plain": [
       "Output()"
      ]
     },
     "metadata": {},
     "output_type": "display_data"
    }
   ],
   "source": [
    "# Plotting using k3d\n",
    "import k3d\n",
    "plot = k3d.plot(name='SDF Points')\n",
    "\n",
    "point_size = 0.05\n",
    "\n",
    "# envelope\n",
    "plot += k3d.points(positions=numpy_point_cloud, point_size=point_size, color=0x000000, name='far outside') # black\n",
    "plot += k3d.points(positions=inside_points, point_size=point_size, color=0xff0000, name='outside') # red\n",
    "plot += k3d.points(positions=outisde_points, point_size=point_size, color=0xffcfff, name='outside') # red\n",
    "plot.display()"
   ]
  }
 ],
 "metadata": {
  "kernelspec": {
   "display_name": "ginn-env-cond",
   "language": "python",
   "name": "python3"
  },
  "language_info": {
   "codemirror_mode": {
    "name": "ipython",
    "version": 3
   },
   "file_extension": ".py",
   "mimetype": "text/x-python",
   "name": "python",
   "nbconvert_exporter": "python",
   "pygments_lexer": "ipython3",
   "version": "3.11.5"
  },
  "orig_nbformat": 4
 },
 "nbformat": 4,
 "nbformat_minor": 2
}
