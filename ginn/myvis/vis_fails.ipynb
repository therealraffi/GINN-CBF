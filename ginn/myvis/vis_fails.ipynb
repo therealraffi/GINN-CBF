{
 "cells": [
  {
   "cell_type": "code",
   "execution_count": 1,
   "id": "93b06941",
   "metadata": {},
   "outputs": [],
   "source": [
    "import os\n",
    "import numpy as np\n",
    "import k3d"
   ]
  },
  {
   "cell_type": "code",
   "execution_count": 2,
   "id": "e108daab",
   "metadata": {},
   "outputs": [
    {
     "ename": "FileNotFoundError",
     "evalue": "[Errno 2] No such file or directory: '/scratch/rhm4nj/cral/cral-ginn/ginn/all_runs/models/experiments/2025-04-25_20-23-36_room_0_objects/0_wall_lambda_descent_1/passed_inner_pts.npy'",
     "output_type": "error",
     "traceback": [
      "\u001b[0;31m---------------------------------------------------------------------------\u001b[0m",
      "\u001b[0;31mFileNotFoundError\u001b[0m                         Traceback (most recent call last)",
      "Cell \u001b[0;32mIn[2], line 12\u001b[0m\n\u001b[1;32m      5\u001b[0m colors \u001b[38;5;241m=\u001b[39m {\n\u001b[1;32m      6\u001b[0m     \u001b[38;5;124m'\u001b[39m\u001b[38;5;124mpassed\u001b[39m\u001b[38;5;124m'\u001b[39m:   \u001b[38;5;241m0x00ff00\u001b[39m,  \u001b[38;5;66;03m# green\u001b[39;00m\n\u001b[1;32m      7\u001b[0m     \u001b[38;5;124m'\u001b[39m\u001b[38;5;124mpenalized\u001b[39m\u001b[38;5;124m'\u001b[39m:\u001b[38;5;241m0xff0000\u001b[39m,  \u001b[38;5;66;03m# red\u001b[39;00m\n\u001b[1;32m      8\u001b[0m }\n\u001b[1;32m     10\u001b[0m \u001b[38;5;28;01mfor\u001b[39;00m cat \u001b[38;5;129;01min\u001b[39;00m categories:\n\u001b[1;32m     11\u001b[0m     \u001b[38;5;66;03m# load\u001b[39;00m\n\u001b[0;32m---> 12\u001b[0m     passed \u001b[38;5;241m=\u001b[39m \u001b[43mnp\u001b[49m\u001b[38;5;241;43m.\u001b[39;49m\u001b[43mload\u001b[49m\u001b[43m(\u001b[49m\u001b[43mos\u001b[49m\u001b[38;5;241;43m.\u001b[39;49m\u001b[43mpath\u001b[49m\u001b[38;5;241;43m.\u001b[39;49m\u001b[43mjoin\u001b[49m\u001b[43m(\u001b[49m\u001b[43mbase_dir\u001b[49m\u001b[43m,\u001b[49m\u001b[43m \u001b[49m\u001b[38;5;124;43mf\u001b[39;49m\u001b[38;5;124;43m'\u001b[39;49m\u001b[38;5;124;43mpassed_\u001b[39;49m\u001b[38;5;132;43;01m{\u001b[39;49;00m\u001b[43mcat\u001b[49m\u001b[38;5;132;43;01m}\u001b[39;49;00m\u001b[38;5;124;43m_pts.npy\u001b[39;49m\u001b[38;5;124;43m'\u001b[39;49m\u001b[43m)\u001b[49m\u001b[43m)\u001b[49m\n\u001b[1;32m     13\u001b[0m     penalized \u001b[38;5;241m=\u001b[39m np\u001b[38;5;241m.\u001b[39mload(os\u001b[38;5;241m.\u001b[39mpath\u001b[38;5;241m.\u001b[39mjoin(base_dir, \u001b[38;5;124mf\u001b[39m\u001b[38;5;124m'\u001b[39m\u001b[38;5;124mpenalized_\u001b[39m\u001b[38;5;132;01m{\u001b[39;00mcat\u001b[38;5;132;01m}\u001b[39;00m\u001b[38;5;124m_pts.npy\u001b[39m\u001b[38;5;124m'\u001b[39m))\n\u001b[1;32m     14\u001b[0m     \u001b[38;5;28mprint\u001b[39m(cat, passed\u001b[38;5;241m.\u001b[39mshape[\u001b[38;5;241m0\u001b[39m], \u001b[38;5;124m\"\u001b[39m\u001b[38;5;124m/\u001b[39m\u001b[38;5;124m\"\u001b[39m , penalized\u001b[38;5;241m.\u001b[39mshape[\u001b[38;5;241m0\u001b[39m])\n",
      "File \u001b[0;32m/scratch/rhm4nj/.conda/ginn_env11/lib/python3.11/site-packages/numpy/lib/_npyio_impl.py:451\u001b[0m, in \u001b[0;36mload\u001b[0;34m(file, mmap_mode, allow_pickle, fix_imports, encoding, max_header_size)\u001b[0m\n\u001b[1;32m    449\u001b[0m     own_fid \u001b[38;5;241m=\u001b[39m \u001b[38;5;28;01mFalse\u001b[39;00m\n\u001b[1;32m    450\u001b[0m \u001b[38;5;28;01melse\u001b[39;00m:\n\u001b[0;32m--> 451\u001b[0m     fid \u001b[38;5;241m=\u001b[39m stack\u001b[38;5;241m.\u001b[39menter_context(\u001b[38;5;28;43mopen\u001b[39;49m\u001b[43m(\u001b[49m\u001b[43mos\u001b[49m\u001b[38;5;241;43m.\u001b[39;49m\u001b[43mfspath\u001b[49m\u001b[43m(\u001b[49m\u001b[43mfile\u001b[49m\u001b[43m)\u001b[49m\u001b[43m,\u001b[49m\u001b[43m \u001b[49m\u001b[38;5;124;43m\"\u001b[39;49m\u001b[38;5;124;43mrb\u001b[39;49m\u001b[38;5;124;43m\"\u001b[39;49m\u001b[43m)\u001b[49m)\n\u001b[1;32m    452\u001b[0m     own_fid \u001b[38;5;241m=\u001b[39m \u001b[38;5;28;01mTrue\u001b[39;00m\n\u001b[1;32m    454\u001b[0m \u001b[38;5;66;03m# Code to distinguish from NumPy binary files and pickles.\u001b[39;00m\n",
      "\u001b[0;31mFileNotFoundError\u001b[0m: [Errno 2] No such file or directory: '/scratch/rhm4nj/cral/cral-ginn/ginn/all_runs/models/experiments/2025-04-25_20-23-36_room_0_objects/0_wall_lambda_descent_1/passed_inner_pts.npy'"
     ]
    }
   ],
   "source": [
    "\n",
    "# the folder containing your .npy files\n",
    "base_dir = '/scratch/rhm4nj/cral/cral-ginn/ginn/all_runs/models/experiments/2025-04-25_20-23-36_room_0_objects/0_wall_lambda_descent_1'\n",
    "\n",
    "categories = ['inner', 'outer', 'domain']\n",
    "colors = {\n",
    "    'passed':   0x00ff00,  # green\n",
    "    'penalized':0xff0000,  # red\n",
    "}\n",
    "\n",
    "for cat in categories:\n",
    "    # load\n",
    "    passed = np.load(os.path.join(base_dir, f'passed_{cat}_pts.npy'))\n",
    "    penalized = np.load(os.path.join(base_dir, f'penalized_{cat}_pts.npy'))\n",
    "    print(cat, passed.shape[0], \"/\" , penalized.shape[0])\n",
    "\n",
    "    # new plot\n",
    "    plot = k3d.plot()\n",
    "    plot += k3d.points(passed.astype(np.float32),\n",
    "                       point_size=0.01,\n",
    "                       color=colors['passed'],\n",
    "                       name=f'{cat} passed')\n",
    "    plot += k3d.points(penalized.astype(np.float32),\n",
    "                       point_size=0.01,\n",
    "                       color=colors['penalized'],\n",
    "                       name=f'{cat} penalized')\n",
    "    \n",
    "    plot.display()"
   ]
  }
 ],
 "metadata": {
  "kernelspec": {
   "display_name": "ginn_env11",
   "language": "python",
   "name": "python3"
  },
  "language_info": {
   "codemirror_mode": {
    "name": "ipython",
    "version": 3
   },
   "file_extension": ".py",
   "mimetype": "text/x-python",
   "name": "python",
   "nbconvert_exporter": "python",
   "pygments_lexer": "ipython3",
   "version": "3.11.11"
  }
 },
 "nbformat": 4,
 "nbformat_minor": 5
}
