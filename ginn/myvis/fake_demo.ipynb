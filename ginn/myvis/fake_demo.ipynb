{
 "cells": [
  {
   "cell_type": "code",
   "execution_count": 4,
   "metadata": {},
   "outputs": [
    {
     "ename": "AttributeError",
     "evalue": "'Trimesh' object has no attribute 'subtract'",
     "output_type": "error",
     "traceback": [
      "\u001b[0;31m---------------------------------------------------------------------------\u001b[0m",
      "\u001b[0;31mAttributeError\u001b[0m                            Traceback (most recent call last)",
      "Cell \u001b[0;32mIn[4], line 32\u001b[0m\n\u001b[1;32m     29\u001b[0m     \u001b[38;5;28;01mreturn\u001b[39;00m outer_mesh\n\u001b[1;32m     31\u001b[0m \u001b[38;5;66;03m# Generate the mesh with a hole\u001b[39;00m\n\u001b[0;32m---> 32\u001b[0m mesh_with_hole \u001b[38;5;241m=\u001b[39m \u001b[43mgenerate_mesh_with_hole\u001b[49m\u001b[43m(\u001b[49m\u001b[43m)\u001b[49m\n\u001b[1;32m     34\u001b[0m \u001b[38;5;66;03m# Visualize the mesh\u001b[39;00m\n\u001b[1;32m     35\u001b[0m mesh_with_hole\u001b[38;5;241m.\u001b[39mshow()\n",
      "Cell \u001b[0;32mIn[4], line 27\u001b[0m, in \u001b[0;36mgenerate_mesh_with_hole\u001b[0;34m(outer_size, hole_radius, hole_center, resolution)\u001b[0m\n\u001b[1;32m     24\u001b[0m         outer_mesh\u001b[38;5;241m.\u001b[39mupdate_faces([f \u001b[38;5;28;01mfor\u001b[39;00m f \u001b[38;5;129;01min\u001b[39;00m outer_mesh\u001b[38;5;241m.\u001b[39mfaces \u001b[38;5;28;01mif\u001b[39;00m f \u001b[38;5;129;01mnot\u001b[39;00m \u001b[38;5;129;01min\u001b[39;00m face])\n\u001b[1;32m     26\u001b[0m \u001b[38;5;66;03m# Adding hole to the surface\u001b[39;00m\n\u001b[0;32m---> 27\u001b[0m outer_mesh \u001b[38;5;241m=\u001b[39m \u001b[43mouter_polygon\u001b[49m\u001b[38;5;241;43m.\u001b[39;49m\u001b[43msubtract\u001b[49m(hole_verts)\n\u001b[1;32m     29\u001b[0m \u001b[38;5;28;01mreturn\u001b[39;00m outer_mesh\n",
      "\u001b[0;31mAttributeError\u001b[0m: 'Trimesh' object has no attribute 'subtract'"
     ]
    }
   ],
   "source": [
    "import trimesh\n",
    "import numpy as np\n",
    "\n",
    "# Function to generate a rectangular mesh with a hole\n",
    "def generate_mesh_with_hole(outer_size=(10, 10), hole_radius=2, hole_center=(0, 0), resolution=32):\n",
    "    # Create a square mesh\n",
    "    outer_polygon = trimesh.creation.box(extents=[outer_size[0], outer_size[1], 0.1], transform=trimesh.transformations.translation_matrix([0, 0, 0]))\n",
    "\n",
    "    # Create a circular hole\n",
    "    theta = np.linspace(0, 2 * np.pi, resolution)\n",
    "    hole_x = hole_center[0] + hole_radius * np.cos(theta)\n",
    "    hole_y = hole_center[1] + hole_radius * np.sin(theta)\n",
    "    hole_verts = np.vstack((hole_x, hole_y)).T\n",
    "\n",
    "    # Remove the top face and create a hole manually by excluding the hole region from the mesh\n",
    "    outer_mesh = outer_polygon.copy()\n",
    "\n",
    "    # Manually adding vertices and faces for the hole.\n",
    "    # Find the face (top face) and remove vertices within the hole\n",
    "    for face in outer_mesh.faces:\n",
    "        face_verts = outer_mesh.vertices[face]\n",
    "        distances = np.linalg.norm(face_verts[:, :2] - np.array(hole_center), axis=1)\n",
    "        if np.any(distances < hole_radius):\n",
    "            outer_mesh.update_faces([f for f in outer_mesh.faces if f not in face])\n",
    "\n",
    "    # Adding hole to the surface\n",
    "    outer_mesh = outer_polygon.subtract(hole_verts)\n",
    "\n",
    "    return outer_mesh\n",
    "\n",
    "# Generate the mesh with a hole\n",
    "mesh_with_hole = generate_mesh_with_hole()\n",
    "\n",
    "# Visualize the mesh\n",
    "mesh_with_hole.show()\n"
   ]
  }
 ],
 "metadata": {
  "kernelspec": {
   "display_name": "ginn-env",
   "language": "python",
   "name": "python3"
  },
  "language_info": {
   "codemirror_mode": {
    "name": "ipython",
    "version": 3
   },
   "file_extension": ".py",
   "mimetype": "text/x-python",
   "name": "python",
   "nbconvert_exporter": "python",
   "pygments_lexer": "ipython3",
   "version": "3.11.5"
  }
 },
 "nbformat": 4,
 "nbformat_minor": 2
}
