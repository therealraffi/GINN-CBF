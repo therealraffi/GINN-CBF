{
 "cells": [
  {
   "cell_type": "code",
   "execution_count": 2,
   "metadata": {},
   "outputs": [
    {
     "name": "stdout",
     "output_type": "stream",
     "text": [
      "Jupyter environment detected. Enabling Open3D WebVisualizer.\n",
      "[Open3D INFO] WebRTC GUI backend enabled.\n",
      "[Open3D INFO] WebRTCWindowSystem: HTTP handshake server disabled.\n"
     ]
    }
   ],
   "source": [
    "import trimesh\n",
    "import numpy as np\n",
    "import k3d\n",
    "\n",
    "import struct\n",
    "import open3d as o3d\n",
    "\n",
    "from random import randint\n",
    "from sklearn.cluster import DBSCAN"
   ]
  },
  {
   "cell_type": "code",
   "execution_count": 3,
   "metadata": {},
   "outputs": [
    {
     "name": "stdout",
     "output_type": "stream",
     "text": [
      "Loaded mesh with 1909992 vertices and 3817138 faces.\n"
     ]
    }
   ],
   "source": [
    "# Load the PLY mesh\n",
    "mesh = trimesh.load_mesh(\"/scratch/rhm4nj/cral/cral-ginn/Replica-Dataset/ReplicaSDK/apartment_1/mesh.ply\")\n",
    "vertices = np.array(mesh.vertices)  # (N, 3) array of vertex positions\n",
    "faces = np.array(mesh.faces)  # (M, 3) array of triangle indices\n",
    "\n",
    "print(f\"Loaded mesh with {vertices.shape[0]} vertices and {faces.shape[0]} faces.\")\n"
   ]
  },
  {
   "cell_type": "code",
   "execution_count": 4,
   "metadata": {},
   "outputs": [
    {
     "name": "stderr",
     "output_type": "stream",
     "text": [
      "/scratch/rhm4nj/.conda/ginn_env11/lib/python3.11/site-packages/traittypes/traittypes.py:97: UserWarning: Given trait value dtype \"float64\" does not match required type \"float32\". A coerced copy has been created.\n",
      "  warnings.warn(\n"
     ]
    },
    {
     "data": {
      "application/vnd.jupyter.widget-view+json": {
       "model_id": "ce088fff8085455a877d164406aaaee2",
       "version_major": 2,
       "version_minor": 0
      },
      "text/plain": [
       "Output()"
      ]
     },
     "metadata": {},
     "output_type": "display_data"
    }
   ],
   "source": [
    "def downsample_random(points, K):\n",
    "    indices = np.random.choice(points.shape[0], K, replace=False)\n",
    "    return points[indices]\n",
    "\n",
    "plot = k3d.plot()\n",
    "\n",
    "point_cloud = k3d.points(downsample_random(vertices, 500_000), point_size=0.01, color=0xFF0000)  # Red color\n",
    "plot += point_cloud\n",
    "\n",
    "# mesh_plot = k3d.mesh(vertices, faces, color=0x00FF00)  # Green color\n",
    "# plot += mesh_plot\n",
    "\n",
    "plot.display()"
   ]
  },
  {
   "cell_type": "code",
   "execution_count": 32,
   "metadata": {},
   "outputs": [
    {
     "name": "stdout",
     "output_type": "stream",
     "text": [
      "Raw points shape: (1909992, 3)\n",
      "Downsample 500000\n"
     ]
    }
   ],
   "source": [
    "points = vertices\n",
    "\n",
    "def ransac_plane_segmentation(point_cloud, distance_threshold=0.01, max_iterations=1000):\n",
    "    o3d_cloud = o3d.geometry.PointCloud()\n",
    "    o3d_cloud.points = o3d.utility.Vector3dVector(point_cloud)\n",
    "\n",
    "    planes = []\n",
    "    plane_models = []\n",
    "    while True:\n",
    "        plane_model, inliers = o3d_cloud.segment_plane(\n",
    "            distance_threshold=distance_threshold,\n",
    "            ransac_n=5,\n",
    "            num_iterations=max_iterations\n",
    "        )\n",
    "\n",
    "        if len(inliers) < 50:  # Adjust this threshold as needed\n",
    "            break\n",
    "\n",
    "        plane_points = np.asarray(o3d_cloud.points)[inliers]\n",
    "        planes.append(plane_points)\n",
    "        plane_models.append(plane_model)  # Store the plane model (ax + by + cz + d = 0)\n",
    "\n",
    "        # Remove inliers from the point cloud\n",
    "        o3d_cloud = o3d_cloud.select_by_index(inliers, invert=True)\n",
    "\n",
    "    return planes, plane_models\n",
    "\n",
    "def remove_subset_points(cloud1, cloud2):\n",
    "    matches = np.isin(cloud1[:, None], cloud2).all(axis=2).any(axis=1)\n",
    "    filtered_cloud1 = cloud1[~matches]\n",
    "    return filtered_cloud1\n",
    "\n",
    "def get_planes_parallel_to_floor(planes, plane_models, floor_model, tolerance=0.2):\n",
    "    # Extract the normal vector of the floor plane\n",
    "    floor_normal = np.array(floor_model[:3])\n",
    "\n",
    "    # Find parallel planes\n",
    "    parallel_planes = []\n",
    "    for i, model in enumerate(plane_models):\n",
    "        plane_normal = np.array(model[:3])\n",
    "        cos_theta = np.dot(plane_normal, floor_normal) / (np.linalg.norm(plane_normal) * np.linalg.norm(floor_normal))\n",
    "\n",
    "        # Check if planes are parallel within the tolerance\n",
    "        if abs(abs(cos_theta) - 1) < tolerance:\n",
    "            parallel_planes.append(planes[i])\n",
    "\n",
    "    return parallel_planes\n",
    "\n",
    "def segment_planes(point_cloud):\n",
    "    def compute_curvature(pcd, k=20):\n",
    "        \"\"\" Estimate curvature to filter out non-planar regions \"\"\"\n",
    "        pcd.estimate_normals(o3d.geometry.KDTreeSearchParamKNN(k))\n",
    "        curvatures = np.linalg.norm(np.asarray(pcd.normals), axis=1)\n",
    "        return curvatures\n",
    "    \n",
    "    def region_growing_clustering(pcd, eps=0.05, min_cluster_size=500):\n",
    "        \"\"\" Cluster the plane points to extract only contiguous flat regions \"\"\"\n",
    "        labels = np.array(pcd.cluster_dbscan(eps=eps, min_points=min_cluster_size, print_progress=False))\n",
    "        unique_labels = np.unique(labels)\n",
    "        \n",
    "        clusters = []\n",
    "        for label in unique_labels:\n",
    "            if label == -1:  # Ignore noise\n",
    "                continue\n",
    "            cluster_pcd = pcd.select_by_index(np.where(labels == label)[0])\n",
    "            clusters.append(cluster_pcd)\n",
    "        \n",
    "        return clusters\n",
    "    \n",
    "    pcd = o3d.geometry.PointCloud()\n",
    "    pcd.points = o3d.utility.Vector3dVector(point_cloud)\n",
    "    \n",
    "    curvature = compute_curvature(pcd)\n",
    "    flat_indices = np.where(curvature < 1)[0]  # Adjust threshold\n",
    "    flat_pcd = pcd.select_by_index(flat_indices)\n",
    "    \n",
    "    planes = []\n",
    "    plane_points = []\n",
    "    remaining_pcd = flat_pcd\n",
    "    \n",
    "    while len(remaining_pcd.points) > 500:  # Stop when too few points remain\n",
    "        plane_model, inliers = remaining_pcd.segment_plane(distance_threshold=0.09,\n",
    "                                                           ransac_n=3,\n",
    "                                                           num_iterations=1000)\n",
    "        \n",
    "        plane_pcd = remaining_pcd.select_by_index(inliers)\n",
    "        clustered_planes = region_growing_clustering(plane_pcd, eps=0.75, min_cluster_size=700)\n",
    "        # print(plane_pcd, clustered_planes)\n",
    "        \n",
    "        for cluster in clustered_planes:\n",
    "            planes.append(cluster)\n",
    "            plane_points.append(np.asarray(cluster.points))\n",
    "        \n",
    "        remaining_pcd = remaining_pcd.select_by_index(inliers, invert=True)\n",
    "        \n",
    "    return plane_points, planes\n",
    "\n",
    "print(\"Raw points shape:\", points.shape)\n",
    "max_points = 500_000\n",
    "\n",
    "if points.shape[0] > max_points:\n",
    "    points = downsample_random(points, max_points)\n",
    "    print(\"Downsample\", max_points)\n",
    "\n",
    "# print(\"RANSAC\")\n",
    "# plane_clusters, plane_models = ransac_plane_segmentation(points, distance_threshold=0.03, max_iterations=1000)\n",
    "# floor = plane_clusters[0]\n",
    "# floor_model = plane_models[0]  # Assume the first detected plane is the floor\n",
    "\n",
    "# parallel_planes = get_planes_parallel_to_floor(plane_clusters, plane_models, floor_model)\n",
    "# parallel_planes.append(floor)\n",
    "# print(\"N parallel:\", len(parallel_planes))\n",
    "\n",
    "plane_points, planes = segment_planes(points)"
   ]
  },
  {
   "cell_type": "code",
   "execution_count": 33,
   "metadata": {},
   "outputs": [
    {
     "name": "stdout",
     "output_type": "stream",
     "text": [
      "15\n",
      "[array([[ 6.88550901,  4.50611925,  0.98404688],\n",
      "       [-1.03884006, -0.68322343,  1.12217116],\n",
      "       [ 5.06803608,  4.56223011,  0.99797118],\n",
      "       ...,\n",
      "       [ 5.93379688,  1.30822921,  1.046808  ],\n",
      "       [ 4.79471159,  3.01433468,  1.03727984],\n",
      "       [ 2.96850729,  2.40629268,  1.07144475]], shape=(42742, 3)), array([[ 1.56331098,  0.12689532, -1.62484145],\n",
      "       [ 7.09966803,  6.8258357 , -1.79109514],\n",
      "       [ 7.22564793,  3.17730904, -1.71597087],\n",
      "       ...,\n",
      "       [ 8.00860691,  2.68246198, -1.71098387],\n",
      "       [ 3.51489019,  4.6831193 , -1.71295094],\n",
      "       [ 5.04611969, -0.23202941, -1.65144134]], shape=(41956, 3)), array([[ 1.99925804,  2.88870645, -0.03965694],\n",
      "       [ 2.02875662,  3.66734624,  0.9132002 ],\n",
      "       [ 2.04883361,  5.41215181, -1.16312313],\n",
      "       ...,\n",
      "       [ 2.07527471,  0.97693455,  0.85300469],\n",
      "       [ 2.04109097,  6.34492874,  0.24310727],\n",
      "       [ 2.05870342,  1.65716815, -0.49731424]], shape=(17716, 3)), array([[ 4.50174427,  3.01168919,  0.90562999],\n",
      "       [ 3.77839351,  2.9819746 , -0.03176817],\n",
      "       [ 6.95361423,  2.9802537 , -1.38529491],\n",
      "       ...,\n",
      "       [ 5.68942547,  3.04035449, -0.80495173],\n",
      "       [ 3.78807545,  2.99923325,  0.88720882],\n",
      "       [ 6.64120054,  3.06790352,  0.59934038]], shape=(13947, 3)), array([[ 1.16664779,  6.85013676, -0.41692749],\n",
      "       [ 1.52483523,  6.85401678, -0.42583713],\n",
      "       [ 1.20497799,  6.68575668, -1.20118856],\n",
      "       ...,\n",
      "       [ 0.1226753 ,  6.83116627,  0.23547053],\n",
      "       [-0.94221592,  6.8342762 ,  0.65954149],\n",
      "       [-1.68451715,  6.64596224, -1.0362376 ]], shape=(8049, 3)), array([[-2.33811998,  0.06936564, -0.15720473],\n",
      "       [-2.58890414,  5.83353806, -0.63732541],\n",
      "       [-2.5855732 ,  5.23153114, -0.51751155],\n",
      "       ...,\n",
      "       [-2.50030541,  6.17861176,  0.12862222],\n",
      "       [-2.50373197,  0.45064667,  0.48549652],\n",
      "       [-2.51114702,  1.03708637,  0.52161539]], shape=(6569, 3)), array([[-2.19150448, -0.88775355, -0.70537817],\n",
      "       [ 1.28623259, -0.71908933, -1.19929576],\n",
      "       [ 0.06378911, -0.80244458,  0.3206538 ],\n",
      "       ...,\n",
      "       [-1.99052596, -0.88389349, -0.25133893],\n",
      "       [-0.66231543, -0.85256493,  0.71962988],\n",
      "       [ 0.87603456, -0.85024393, -0.26887095]], shape=(4459, 3)), array([[ 7.86127138,  3.69482231, -1.12396133],\n",
      "       [ 7.85494328,  3.92462969,  0.90774   ],\n",
      "       [ 7.83559561,  6.18932438, -0.53446281],\n",
      "       ...,\n",
      "       [ 7.83578205,  6.36774731, -0.30704561],\n",
      "       [ 7.84153366,  6.14405584,  0.02556528],\n",
      "       [ 7.84256124,  5.75889111, -0.37180406]], shape=(4338, 3)), array([[ 4.11564112,  5.32506657, -0.96957922],\n",
      "       [ 5.9151268 ,  4.84866428, -0.99947023],\n",
      "       [ 4.31340504,  5.31135178, -0.98495823],\n",
      "       ...,\n",
      "       [ 6.5349226 ,  4.70923281, -0.90473163],\n",
      "       [ 4.32683277,  4.51028395, -1.00614429],\n",
      "       [ 4.30740595,  4.30039072, -0.96206796]], shape=(3362, 3)), array([[ 6.66179562,  6.89830971, -0.22101337],\n",
      "       [ 6.60024786,  6.88964128, -0.55464578],\n",
      "       [ 5.84024715,  6.88779163, -0.08520342],\n",
      "       ...,\n",
      "       [ 7.24029636,  6.88327646, -0.79923606],\n",
      "       [ 6.52748251,  6.85521698, -1.09869337],\n",
      "       [ 6.94253922,  6.89723063, -0.14190499]], shape=(2805, 3)), array([[ 5.66998768,  4.58203983, -1.26968026],\n",
      "       [ 5.06088829,  4.83547354, -1.41099858],\n",
      "       [ 3.90035129,  4.9515233 , -1.39841914],\n",
      "       ...,\n",
      "       [ 4.97457123,  4.44762135, -1.20797825],\n",
      "       [ 6.44661331,  4.79406261, -1.28347349],\n",
      "       [ 4.67374468,  5.19078636, -1.41119814]], shape=(2595, 3)), array([[ 5.69588566,  5.38094187, -1.21826863],\n",
      "       [ 5.68638086,  5.20884562, -1.23907638],\n",
      "       [ 4.8875351 ,  5.29648829, -1.2333231 ],\n",
      "       ...,\n",
      "       [ 5.60226774,  5.38048363, -1.24530494],\n",
      "       [ 4.21226215,  4.94792843, -1.22590399],\n",
      "       [ 5.42746782,  4.34678841, -1.3976028 ]], shape=(1721, 3)), array([[ 4.46502018,  6.6964941 ,  0.68160868],\n",
      "       [ 4.5966711 ,  6.69824982,  0.86826575],\n",
      "       [ 5.44938946,  6.69360304, -0.57077092],\n",
      "       ...,\n",
      "       [ 5.60010481,  6.71159315,  0.09968248],\n",
      "       [ 4.4329319 ,  6.68997478, -0.14986035],\n",
      "       [ 4.27595043,  6.6869669 , -0.17524338]], shape=(1410, 3)), array([[-1.31429195, -0.34499106,  0.03356894],\n",
      "       [-1.91675794, -0.01910171, -0.02499376],\n",
      "       [-1.46370649, -0.17651302, -0.08025894],\n",
      "       ...,\n",
      "       [-1.56452036,  0.03059877, -0.1720767 ],\n",
      "       [-1.6451906 , -0.1227126 , -0.03743951],\n",
      "       [-1.56483376, -0.12231426, -0.15111612]], shape=(893, 3)), array([[-1.73173809, -0.40742075,  0.18265456],\n",
      "       [-1.77974653, -0.14201736,  0.08454512],\n",
      "       [-2.32319403, -0.53141809,  0.16834426],\n",
      "       ...,\n",
      "       [-1.78652191, -0.65894592,  0.29394212],\n",
      "       [-2.01525664, -0.36331642,  0.17456886],\n",
      "       [-1.75990629,  0.06828022,  0.02638448]], shape=(821, 3))]\n",
      "0 (104, 224, 28)\n",
      "1 (222, 127, 160)\n",
      "2 (106, 25, 100)\n",
      "3 (169, 92, 240)\n",
      "4 (50, 39, 242)\n"
     ]
    },
    {
     "data": {
      "application/vnd.jupyter.widget-view+json": {
       "model_id": "51ab954cbfc74909a99a1f80dcf0977c",
       "version_major": 2,
       "version_minor": 0
      },
      "text/plain": [
       "Output()"
      ]
     },
     "metadata": {},
     "output_type": "display_data"
    }
   ],
   "source": [
    "# clusters_sorted = sorted(clusters, key=lambda x: x.shape[0], reverse=True)\n",
    "\n",
    "print(len(plane_points))\n",
    "plot = k3d.plot()\n",
    "n = 5\n",
    "\n",
    "# color = randint(0, 0xFFFFFF)\n",
    "# plot += k3d.points(\n",
    "#     positions=plane_points, \n",
    "#     point_size=0.1,\n",
    "#     color=color  # Apply the random color\n",
    "# )\n",
    "\n",
    "plane_points = sorted(plane_points, key=lambda x: x.shape[0], reverse=True)\n",
    "print(plane_points)\n",
    "\n",
    "for i, cluster in enumerate(plane_points[:n]):\n",
    "    color = randint(0, 0xFFFFFF)\n",
    "\n",
    "    r = (color >> 16) & 0xFF  # Extract the red component\n",
    "    g = (color >> 8) & 0xFF   # Extract the green component\n",
    "    b = color & 0xFF          # Extract the blue component\n",
    "    rgb = (r, g, b)\n",
    "\n",
    "    print(i, rgb)\n",
    "    \n",
    "    plot += k3d.points(\n",
    "        positions=cluster.astype(np.float32), \n",
    "        point_size=0.05,\n",
    "        color=color  # Apply the random color\n",
    "    )\n",
    "\n",
    "plot.display()"
   ]
  },
  {
   "cell_type": "code",
   "execution_count": 30,
   "metadata": {},
   "outputs": [
    {
     "name": "stdout",
     "output_type": "stream",
     "text": [
      "Cleaning\n",
      "(500000, 3)\n",
      "(354444, 3)\n",
      "Clustering\n",
      "1\n"
     ]
    }
   ],
   "source": [
    "def dbscan_cluster(point_cloud, eps=0.5, min_samples=5):\n",
    "    db = DBSCAN(eps=eps, min_samples=min_samples).fit(point_cloud)\n",
    "\n",
    "    labels = db.labels_\n",
    "\n",
    "    unique_labels = set(labels)\n",
    "    if -1 in unique_labels:\n",
    "        unique_labels.remove(-1)\n",
    "\n",
    "    clusters = []\n",
    "    for label in unique_labels:\n",
    "        cluster_points = point_cloud[labels == label]\n",
    "        clusters.append(cluster_points)\n",
    "\n",
    "    return clusters\n",
    "\n",
    "print(\"Cleaning\")\n",
    "cloud = points.copy()\n",
    "print(cloud.shape)\n",
    "for plane in plane_points:\n",
    "    cloud = remove_subset_points(cloud, plane)\n",
    "    \n",
    "print(cloud.shape)\n",
    "\n",
    "print(\"Clustering\")\n",
    "cloud = points\n",
    "clusters = dbscan_cluster(cloud, eps=0.5, min_samples=200)\n",
    "print(len(clusters))"
   ]
  },
  {
   "cell_type": "code",
   "execution_count": 34,
   "metadata": {},
   "outputs": [
    {
     "name": "stdout",
     "output_type": "stream",
     "text": [
      "1\n"
     ]
    },
    {
     "data": {
      "application/vnd.jupyter.widget-view+json": {
       "model_id": "254359d82c134f0c995803848bdef957",
       "version_major": 2,
       "version_minor": 0
      },
      "text/plain": [
       "Output()"
      ]
     },
     "metadata": {},
     "output_type": "display_data"
    }
   ],
   "source": [
    "clusters_sorted = sorted(clusters, key=lambda x: x.shape[0], reverse=True)\n",
    "print(len(clusters_sorted))\n",
    "\n",
    "plot = k3d.plot()\n",
    "n = 5\n",
    "\n",
    "color = randint(0, 0xFFFFFF)\n",
    "plot += k3d.points(\n",
    "    positions=cloud, \n",
    "    point_size=0.05,\n",
    "    color=color  # Apply the random color\n",
    ")\n",
    "\n",
    "# for i, cluster in enumerate(clusters_sorted[:n]):\n",
    "#     color = randint(0, 0xFFFFFF)\n",
    "\n",
    "#     r = (color >> 16) & 0xFF  # Extract the red component\n",
    "#     g = (color >> 8) & 0xFF   # Extract the green component\n",
    "#     b = color & 0xFF          # Extract the blue component\n",
    "#     rgb = (r, g, b)\n",
    "#     print(i, rgb)\n",
    "    \n",
    "#     plot += k3d.points(\n",
    "#         positions=cluster.astype(np.float32), \n",
    "#         point_size=0.05,\n",
    "#         color=color  # Apply the random color\n",
    "#     )\n",
    "\n",
    "plot.display()"
   ]
  },
  {
   "cell_type": "code",
   "execution_count": null,
   "metadata": {},
   "outputs": [
    {
     "ename": "NameError",
     "evalue": "name 'tqdm' is not defined",
     "output_type": "error",
     "traceback": [
      "\u001b[0;31m---------------------------------------------------------------------------\u001b[0m",
      "\u001b[0;31mNameError\u001b[0m                                 Traceback (most recent call last)",
      "Cell \u001b[0;32mIn[6], line 6\u001b[0m\n\u001b[1;32m      3\u001b[0m points \u001b[38;5;241m=\u001b[39m (points \u001b[38;5;241m-\u001b[39m points\u001b[38;5;241m.\u001b[39mmin(axis\u001b[38;5;241m=\u001b[39m\u001b[38;5;241m0\u001b[39m)) \u001b[38;5;241m/\u001b[39m (points\u001b[38;5;241m.\u001b[39mmax(axis\u001b[38;5;241m=\u001b[39m\u001b[38;5;241m0\u001b[39m) \u001b[38;5;241m-\u001b[39m points\u001b[38;5;241m.\u001b[39mmin(axis\u001b[38;5;241m=\u001b[39m\u001b[38;5;241m0\u001b[39m))\n\u001b[1;32m      5\u001b[0m max_iters \u001b[38;5;241m=\u001b[39m \u001b[38;5;241m3\u001b[39m\n\u001b[0;32m----> 6\u001b[0m \u001b[38;5;28;01mfor\u001b[39;00m i \u001b[38;5;129;01min\u001b[39;00m \u001b[43mtqdm\u001b[49m(\u001b[38;5;28mrange\u001b[39m(max_iters), desc\u001b[38;5;241m=\u001b[39m\u001b[38;5;124m\"\u001b[39m\u001b[38;5;124miter\u001b[39m\u001b[38;5;124m\"\u001b[39m):\n\u001b[1;32m      7\u001b[0m     pcd \u001b[38;5;241m=\u001b[39m o3d\u001b[38;5;241m.\u001b[39mgeometry\u001b[38;5;241m.\u001b[39mPointCloud()\n\u001b[1;32m      8\u001b[0m     pcd\u001b[38;5;241m.\u001b[39mpoints \u001b[38;5;241m=\u001b[39m o3d\u001b[38;5;241m.\u001b[39mutility\u001b[38;5;241m.\u001b[39mVector3dVector(points)\n",
      "\u001b[0;31mNameError\u001b[0m: name 'tqdm' is not defined"
     ]
    }
   ],
   "source": [
    "points = clusters_sorted[0]\n",
    "scale_factor = (points - points.min(axis=0)) / (points.max(axis=0) - points.min(axis=0))\n",
    "points = (points - points.min(axis=0)) / (points.max(axis=0) - points.min(axis=0))\n",
    "\n",
    "max_iters = 3\n",
    "for i in tqdm(range(max_iters), desc=\"iter\"):\n",
    "    pcd = o3d.geometry.PointCloud()\n",
    "    pcd.points = o3d.utility.Vector3dVector(points)\n",
    "\n",
    "    pcd, ind = pcd.remove_statistical_outlier(nb_neighbors=30, std_ratio=0.5)\n",
    "    pcd, ind = pcd.remove_radius_outlier(nb_points=30, radius=0.15)\n",
    "\n",
    "    alpha = 10\n",
    "    alpha_shape = alphashape.alphashape(points, alpha)\n",
    "\n",
    "    if isinstance(alpha_shape, trimesh.Trimesh):\n",
    "        is_closed = alpha_shape.is_watertight\n",
    "        if is_closed:\n",
    "            print(\"The alpha shape is closed (watertight).\")\n",
    "        else:\n",
    "            print(\"The alpha shape is not closed (not watertight).\")\n",
    "    else:\n",
    "        print(\"The alpha shape is not a 3D mesh.\")\n",
    "\n",
    "    points = np.concatenate([points, (alpha_shape.vertices)])\n",
    "\n",
    "plot = k3d.plot()\n",
    "point_size = 0.005\n",
    "plot += k3d.points(positions=points.astype(np.float32), point_size=point_size, color=0x0000ff)\n",
    "plot += k3d.points(positions=(alpha_shape.vertices).astype(np.float32), point_size=point_size, color=0xff00ff)\n",
    "\n",
    "vertices = np.array(alpha_shape.vertices)\n",
    "faces = np.array(alpha_shape.faces)\n",
    "plot += k3d.mesh(vertices=vertices.astype(np.float32),\n",
    "                    indices=faces.astype(np.uint32),\n",
    "                    color=0xff0000,\n",
    "                    opacity=0.5)  # Set opacity for visualization\n",
    "\n",
    "plot.camera_position = [500, 500, 500]  # Move the camera further back for a zoomed-out view\n",
    "plot.camera_target = [0, 0, 0]          # Set the target point (center of the view)\n",
    "plot.camera_up = [0, 1, 0]              # Set the camera's up direction\n",
    "\n",
    "plot.display()\n"
   ]
  }
 ],
 "metadata": {
  "kernelspec": {
   "display_name": "ginn_env11",
   "language": "python",
   "name": "python3"
  },
  "language_info": {
   "codemirror_mode": {
    "name": "ipython",
    "version": 3
   },
   "file_extension": ".py",
   "mimetype": "text/x-python",
   "name": "python",
   "nbconvert_exporter": "python",
   "pygments_lexer": "ipython3",
   "version": "3.11.11"
  }
 },
 "nbformat": 4,
 "nbformat_minor": 2
}
