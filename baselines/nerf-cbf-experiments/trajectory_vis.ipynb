{
 "cells": [
  {
   "cell_type": "code",
   "execution_count": 1,
   "id": "1fdcb754",
   "metadata": {},
   "outputs": [
    {
     "name": "stdout",
     "output_type": "stream",
     "text": [
      "[ 2.06427431 -0.49828041  0.46499348]\n"
     ]
    }
   ],
   "source": [
    "import trimesh\n",
    "import numpy as np\n",
    "mesh = trimesh.load_mesh(f\"/home/nqd2xs/nerf_cbf_controller/Datasets/Replica/office0_mesh.ply\")\n",
    "point_cloud = np.array(mesh.vertices)  # (N, 3) array of vertex positions\n",
    "print(point_cloud[0])"
   ]
  },
  {
   "cell_type": "code",
   "execution_count": 4,
   "id": "ddfc54d0",
   "metadata": {},
   "outputs": [
    {
     "name": "stdout",
     "output_type": "stream",
     "text": [
      "[ 0.90624912 -0.29543112  0.30237888]\n"
     ]
    }
   ],
   "source": [
    "trajdata = np.loadtxt(\"/home/nqd2xs/nerf_cbf_controller/Datasets/Replica/office0/traj.txt\")\n",
    "traj_coord = trajdata[:, :3]\n",
    "print(traj_coord[0])"
   ]
  },
  {
   "cell_type": "code",
   "execution_count": 7,
   "id": "f4a57ea9",
   "metadata": {},
   "outputs": [
    {
     "data": {
      "application/vnd.jupyter.widget-view+json": {
       "model_id": "ff3eaa727a2d45fea379886f17c3f13b",
       "version_major": 2,
       "version_minor": 0
      },
      "text/plain": [
       "Output()"
      ]
     },
     "metadata": {},
     "output_type": "display_data"
    }
   ],
   "source": [
    "import k3d\n",
    "\n",
    "plot = k3d.plot()\n",
    "points = k3d.points(point_cloud, color=0x0000FF, point_size=0.001)\n",
    "trajectory = k3d.points(traj_coord, color=0xFFFF00, point_size = 0.01)\n",
    "\n",
    "plot += points\n",
    "plot += trajectory\n",
    "plot.display()"
   ]
  }
 ],
 "metadata": {
  "kernelspec": {
   "display_name": "base",
   "language": "python",
   "name": "python3"
  },
  "language_info": {
   "codemirror_mode": {
    "name": "ipython",
    "version": 3
   },
   "file_extension": ".py",
   "mimetype": "text/x-python",
   "name": "python",
   "nbconvert_exporter": "python",
   "pygments_lexer": "ipython3",
   "version": "3.11.6"
  }
 },
 "nbformat": 4,
 "nbformat_minor": 5
}
