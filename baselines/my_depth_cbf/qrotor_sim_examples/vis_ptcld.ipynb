{
 "cells": [
  {
   "cell_type": "code",
   "execution_count": null,
   "id": "01479c5a",
   "metadata": {},
   "outputs": [],
   "source": [
    "import k3d\n",
    "import numpy as np\n",
    "import os"
   ]
  },
  {
   "cell_type": "code",
   "execution_count": 4,
   "id": "916a3435",
   "metadata": {},
   "outputs": [
    {
     "data": {
      "application/vnd.jupyter.widget-view+json": {
       "model_id": "85d0ebbcd72c41c4b901b5c7bb7ff6ef",
       "version_major": 2,
       "version_minor": 0
      },
      "text/plain": [
       "Output()"
      ]
     },
     "metadata": {},
     "output_type": "display_data"
    }
   ],
   "source": [
    "import os\n",
    "# Load it back\n",
    "save_folder = \"/scratch/rhm4nj/cral/cral-ginn/depth_cbf/qrotor_sim_examples/outs/room_0/20250501_151507\"\n",
    "loaded_pc = np.load(os.path.join(save_folder, \"world_pointcloud.npy\"))  # shape (N,3)\n",
    "\n",
    "# Visualize with k3d\n",
    "plot = k3d.plot()\n",
    "points = k3d.points(loaded_pc.astype(np.float32),\n",
    "                    point_size=0.1,\n",
    "                    color=0xff5533)\n",
    "plot += points\n",
    "plot.display()"
   ]
  }
 ],
 "metadata": {
  "kernelspec": {
   "display_name": "final_ginn_env",
   "language": "python",
   "name": "python3"
  },
  "language_info": {
   "codemirror_mode": {
    "name": "ipython",
    "version": 3
   },
   "file_extension": ".py",
   "mimetype": "text/x-python",
   "name": "python",
   "nbconvert_exporter": "python",
   "pygments_lexer": "ipython3",
   "version": "3.11.12"
  }
 },
 "nbformat": 4,
 "nbformat_minor": 5
}
