{
 "cells": [
  {
   "cell_type": "code",
   "execution_count": 1,
   "metadata": {},
   "outputs": [
    {
     "name": "stdout",
     "output_type": "stream",
     "text": [
      "Jupyter environment detected. Enabling Open3D WebVisualizer.\n",
      "[Open3D INFO] WebRTC GUI backend enabled.\n",
      "[Open3D INFO] WebRTCWindowSystem: HTTP handshake server disabled.\n",
      "(160464, 3)\n",
      "(160464, 3)\n"
     ]
    }
   ],
   "source": [
    "import numpy as np\n",
    "import collections\n",
    "import struct\n",
    "import k3d\n",
    "import open3d as o3d\n",
    "\n",
    "from random import randint\n",
    "from sklearn.cluster import DBSCAN\n",
    "\n",
    "def read_next_bytes(fid, num_bytes, format_char_sequence, endian_character=\"<\"):\n",
    "    data = fid.read(num_bytes)\n",
    "    return struct.unpack(endian_character + format_char_sequence, data)\n",
    "\n",
    "def read_points3D_binary(path_to_model_file):\n",
    "    with open(path_to_model_file, \"rb\") as fid:\n",
    "        num_points = read_next_bytes(fid, 8, \"Q\")[0]\n",
    "\n",
    "        xyzs = np.empty((num_points, 3))\n",
    "        rgbs = np.empty((num_points, 3))\n",
    "        errors = np.empty((num_points, 1))\n",
    "\n",
    "        for p_id in range(num_points):\n",
    "            binary_point_line_properties = read_next_bytes(\n",
    "                fid, num_bytes=43, format_char_sequence=\"QdddBBBd\")\n",
    "            xyz = np.array(binary_point_line_properties[1:4])\n",
    "            rgb = np.array(binary_point_line_properties[4:7])\n",
    "            error = np.array(binary_point_line_properties[7])\n",
    "            track_length = read_next_bytes(\n",
    "                fid, num_bytes=8, format_char_sequence=\"Q\")[0]\n",
    "            track_elems = read_next_bytes(\n",
    "                fid, num_bytes=8*track_length,\n",
    "                format_char_sequence=\"ii\"*track_length)\n",
    "            xyzs[p_id] = xyz\n",
    "            rgbs[p_id] = rgb\n",
    "            errors[p_id] = error\n",
    "    return xyzs, rgbs, errors\n",
    "\n",
    "# bin_file = \"/scratch/rhm4nj/cral/datasets/tandt/db/drjohnson/sparse/0/points3D.bin\"\n",
    "bin_file = \"/scratch/rhm4nj/cral/datasets/tandt/horse/sparse/0/points3D.bin\"\n",
    "\n",
    "xyzs, rgbs, errors = read_points3D_binary(bin_file)\n",
    "points = np.array(xyzs)\n",
    "colors = np.array(rgbs)\n",
    "\n",
    "print(colors.shape)\n",
    "print(points.shape)"
   ]
  },
  {
   "cell_type": "code",
   "execution_count": 2,
   "metadata": {},
   "outputs": [
    {
     "data": {
      "application/vnd.jupyter.widget-view+json": {
       "model_id": "46ec296c07fe4c46aebe4b149624a9c8",
       "version_major": 2,
       "version_minor": 0
      },
      "text/plain": [
       "Output()"
      ]
     },
     "metadata": {},
     "output_type": "display_data"
    }
   ],
   "source": [
    "colors = (colors * 255).astype(np.uint8)  # Convert from float [0, 1] to int [0, 255]\n",
    "colors = (colors[:, 0] << 16 | colors[:, 1] << 8 | colors[:, 2]).astype(np.uint32)  # RGB format\n",
    "\n",
    "plot = k3d.plot()\n",
    "point_cloud = k3d.points(positions=points.astype(np.float32), \n",
    "                         colors=colors, \n",
    "                         point_size=0.01)\n",
    "plot += point_cloud\n",
    "plot.display()"
   ]
  },
  {
   "cell_type": "code",
   "execution_count": 3,
   "metadata": {},
   "outputs": [
    {
     "name": "stdout",
     "output_type": "stream",
     "text": [
      "RANSAC\n",
      "N parallel: 233\n",
      "Cleaning\n",
      "Clustering\n"
     ]
    }
   ],
   "source": [
    "def dbscan_cluster(point_cloud, eps=0.5, min_samples=5):\n",
    "    db = DBSCAN(eps=eps, min_samples=min_samples).fit(point_cloud)\n",
    "\n",
    "    labels = db.labels_\n",
    "\n",
    "    unique_labels = set(labels)\n",
    "    if -1 in unique_labels:\n",
    "        unique_labels.remove(-1)\n",
    "\n",
    "    clusters = []\n",
    "    for label in unique_labels:\n",
    "        cluster_points = point_cloud[labels == label]\n",
    "        clusters.append(cluster_points)\n",
    "\n",
    "    return clusters\n",
    "\n",
    "def ransac_plane_segmentation(point_cloud, distance_threshold=0.01, max_iterations=1000):\n",
    "    o3d_cloud = o3d.geometry.PointCloud()\n",
    "    o3d_cloud.points = o3d.utility.Vector3dVector(point_cloud)\n",
    "\n",
    "    planes = []\n",
    "    plane_models = []\n",
    "    while True:\n",
    "        plane_model, inliers = o3d_cloud.segment_plane(\n",
    "            distance_threshold=distance_threshold,\n",
    "            ransac_n=3,\n",
    "            num_iterations=max_iterations\n",
    "        )\n",
    "\n",
    "        if len(inliers) < 50:  # Adjust this threshold as needed\n",
    "            break\n",
    "\n",
    "        plane_points = np.asarray(o3d_cloud.points)[inliers]\n",
    "        planes.append(plane_points)\n",
    "        plane_models.append(plane_model)  # Store the plane model (ax + by + cz + d = 0)\n",
    "\n",
    "        # Remove inliers from the point cloud\n",
    "        o3d_cloud = o3d_cloud.select_by_index(inliers, invert=True)\n",
    "\n",
    "    return planes, plane_models\n",
    "\n",
    "def remove_subset_points(cloud1, cloud2):\n",
    "    matches = np.isin(cloud1[:, None], cloud2).all(axis=2).any(axis=1)\n",
    "    filtered_cloud1 = cloud1[~matches]\n",
    "    return filtered_cloud1\n",
    "\n",
    "def get_planes_parallel_to_floor(planes, plane_models, floor_model, tolerance=0.2):\n",
    "    # Extract the normal vector of the floor plane\n",
    "    floor_normal = np.array(floor_model[:3])\n",
    "\n",
    "    # Find parallel planes\n",
    "    parallel_planes = []\n",
    "    for i, model in enumerate(plane_models):\n",
    "        plane_normal = np.array(model[:3])\n",
    "        cos_theta = np.dot(plane_normal, floor_normal) / (np.linalg.norm(plane_normal) * np.linalg.norm(floor_normal))\n",
    "\n",
    "        # Check if planes are parallel within the tolerance\n",
    "        if abs(abs(cos_theta) - 1) < tolerance:\n",
    "            parallel_planes.append(planes[i])\n",
    "\n",
    "    return parallel_planes\n",
    "\n",
    "print(\"RANSAC\")\n",
    "plane_clusters, plane_models = ransac_plane_segmentation(points, distance_threshold=0.05, max_iterations=1000)\n",
    "floor = plane_clusters[0]\n",
    "floor_model = plane_models[0]  # Assume the first detected plane is the floor\n",
    "\n",
    "parallel_planes = get_planes_parallel_to_floor(plane_clusters, plane_models, floor_model)\n",
    "parallel_planes.append(floor)\n",
    "print(\"N parallel:\", len(parallel_planes))\n",
    "\n",
    "print(\"Cleaning\")\n",
    "cloud = points.copy()\n",
    "for plane in parallel_planes:\n",
    "    cloud = remove_subset_points(cloud, plane)\n",
    "\n",
    "print(\"Clustering\")\n",
    "cloud = points\n",
    "clusters = dbscan_cluster(cloud, eps=0.1, min_samples=6)"
   ]
  },
  {
   "cell_type": "code",
   "execution_count": 4,
   "metadata": {},
   "outputs": [
    {
     "name": "stdout",
     "output_type": "stream",
     "text": [
      "0 (121, 160, 145)\n",
      "1 (214, 209, 13)\n",
      "2 (238, 236, 3)\n",
      "3 (45, 234, 111)\n",
      "4 (130, 168, 102)\n",
      "5 (15, 80, 37)\n",
      "6 (120, 207, 145)\n",
      "7 (189, 122, 132)\n",
      "8 (236, 251, 236)\n",
      "9 (18, 238, 33)\n",
      "10 (149, 16, 84)\n",
      "11 (144, 255, 97)\n",
      "12 (81, 221, 100)\n",
      "13 (238, 89, 170)\n",
      "14 (166, 22, 75)\n",
      "15 (217, 7, 15)\n",
      "16 (236, 189, 217)\n",
      "17 (175, 16, 231)\n",
      "18 (130, 55, 98)\n",
      "19 (193, 110, 153)\n",
      "20 (37, 95, 110)\n",
      "21 (28, 148, 17)\n",
      "22 (250, 252, 160)\n",
      "23 (86, 42, 124)\n",
      "24 (143, 156, 167)\n"
     ]
    },
    {
     "data": {
      "application/vnd.jupyter.widget-view+json": {
       "model_id": "5fe0721af4234acf84ada910bfd451a5",
       "version_major": 2,
       "version_minor": 0
      },
      "text/plain": [
       "Output()"
      ]
     },
     "metadata": {},
     "output_type": "display_data"
    }
   ],
   "source": [
    "clusters_sorted = sorted(clusters, key=lambda x: x.shape[0], reverse=True)\n",
    "\n",
    "plot = k3d.plot()\n",
    "n = 25\n",
    "\n",
    "color = randint(0, 0xFFFFFF)\n",
    "# plot += k3d.points(\n",
    "#     positions=floor.astype(np.float32), \n",
    "#     point_size=0.1,\n",
    "#     color=color  # Apply the random color\n",
    "# )\n",
    "\n",
    "for i, cluster in enumerate(clusters_sorted[:n]):\n",
    "    color = randint(0, 0xFFFFFF)\n",
    "\n",
    "    r = (color >> 16) & 0xFF  # Extract the red component\n",
    "    g = (color >> 8) & 0xFF   # Extract the green component\n",
    "    b = color & 0xFF          # Extract the blue component\n",
    "    rgb = (r, g, b)\n",
    "\n",
    "    print(i, rgb)\n",
    "    \n",
    "    plot += k3d.points(\n",
    "        positions=cluster.astype(np.float32), \n",
    "        point_size=0.1,\n",
    "        color=color  # Apply the random color\n",
    "    )\n",
    "\n",
    "plot.display()"
   ]
  },
  {
   "cell_type": "code",
   "execution_count": 5,
   "metadata": {},
   "outputs": [],
   "source": [
    "# from scipy.spatial import ConvexHull\n",
    "# import numpy as np\n",
    "\n",
    "# points = clusters_sorted[0]\n",
    "# # points = (points - points.min(axis=0)) / (points.max(axis=0) - points.min(axis=0))\n",
    "\n",
    "# pcd = o3d.geometry.PointCloud()\n",
    "# pcd.points = o3d.utility.Vector3dVector(points)\n",
    "\n",
    "# pcd, ind = pcd.remove_statistical_outlier(nb_neighbors=30, std_ratio=1.0)\n",
    "# pcd, ind = pcd.remove_radius_outlier(nb_points=25, radius=0.25)\n",
    "\n",
    "# voxel_size = 0.001  # Adjust based on data\n",
    "# pcd = pcd.voxel_down_sample(voxel_size=voxel_size)\n",
    "# cleaned_points = np.asarray(pcd.points)\n",
    "\n",
    "# hull = ConvexHull(cleaned_points)\n",
    "# # hull = ConvexHull(points)\n",
    "\n",
    "# def generate_points_inside_hull(hull, num_points=1000):\n",
    "#     min_bound = np.min(hull.points, axis=0)\n",
    "#     max_bound = np.max(hull.points, axis=0)\n",
    "    \n",
    "#     random_points = np.random.uniform(min_bound, max_bound, (num_points, len(min_bound)))\n",
    "#     in_hull = np.all(np.dot(random_points, hull.equations[:, :-1].T) + hull.equations[:, -1] <= 0, axis=1)\n",
    "    \n",
    "#     points_inside_hull = random_points[in_hull]\n",
    "#     return points_inside_hull\n",
    "\n",
    "# points_on_hull = points[hull.vertices]\n",
    "# points_inside_hull = generate_points_inside_hull(hull)\n",
    "\n",
    "# point_size = 0.015\n",
    "# plot = k3d.plot()\n",
    "# plot += k3d.points(\n",
    "#     positions=cleaned_points, \n",
    "#     point_size=point_size,\n",
    "#     color=0xCAAFFF\n",
    "# )\n",
    "# plot += k3d.points(\n",
    "#     positions=points_inside_hull, \n",
    "#     point_size=point_size,\n",
    "#     color=0x0000ff\n",
    "# )\n",
    "# plot += k3d.points(\n",
    "#     positions=points_on_hull, \n",
    "#     point_size=point_size,\n",
    "#     color=0xa83232\n",
    "# )\n",
    "# plot.display()"
   ]
  },
  {
   "cell_type": "code",
   "execution_count": 6,
   "metadata": {},
   "outputs": [
    {
     "name": "stderr",
     "output_type": "stream",
     "text": [
      "iter:  33%|███▎      | 1/3 [00:20<00:40, 20.04s/it]"
     ]
    },
    {
     "name": "stdout",
     "output_type": "stream",
     "text": [
      "The alpha shape is not closed (not watertight).\n"
     ]
    },
    {
     "name": "stderr",
     "output_type": "stream",
     "text": [
      "iter:  67%|██████▋   | 2/3 [00:40<00:20, 20.07s/it]"
     ]
    },
    {
     "name": "stdout",
     "output_type": "stream",
     "text": [
      "The alpha shape is not closed (not watertight).\n"
     ]
    },
    {
     "name": "stderr",
     "output_type": "stream",
     "text": [
      "iter: 100%|██████████| 3/3 [01:00<00:00, 20.07s/it]"
     ]
    },
    {
     "name": "stdout",
     "output_type": "stream",
     "text": [
      "The alpha shape is not closed (not watertight).\n"
     ]
    },
    {
     "name": "stderr",
     "output_type": "stream",
     "text": [
      "\n",
      "/scratch/rhm4nj/cral/.venv/lib/python3.11/site-packages/traittypes/traittypes.py:97: UserWarning: Given trait value dtype \"float32\" does not match required type \"float32\". A coerced copy has been created.\n",
      "  warnings.warn(\n"
     ]
    },
    {
     "data": {
      "application/vnd.jupyter.widget-view+json": {
       "model_id": "4c8b2c7d329e457c9606f745108943f9",
       "version_major": 2,
       "version_minor": 0
      },
      "text/plain": [
       "Output()"
      ]
     },
     "metadata": {},
     "output_type": "display_data"
    }
   ],
   "source": [
    "import numpy as np\n",
    "import alphashape\n",
    "import trimesh\n",
    "import k3d\n",
    "from tqdm import tqdm\n",
    "\n",
    "points = clusters_sorted[0]\n",
    "scale_factor = (points - points.min(axis=0)) / (points.max(axis=0) - points.min(axis=0))\n",
    "points = (points - points.min(axis=0)) / (points.max(axis=0) - points.min(axis=0))\n",
    "\n",
    "max_iters = 3\n",
    "for i in tqdm(range(max_iters), desc=\"iter\"):\n",
    "    pcd = o3d.geometry.PointCloud()\n",
    "    pcd.points = o3d.utility.Vector3dVector(points)\n",
    "\n",
    "    pcd, ind = pcd.remove_statistical_outlier(nb_neighbors=30, std_ratio=0.5)\n",
    "    pcd, ind = pcd.remove_radius_outlier(nb_points=30, radius=0.15)\n",
    "\n",
    "    alpha = 10\n",
    "    alpha_shape = alphashape.alphashape(points, alpha)\n",
    "\n",
    "    if isinstance(alpha_shape, trimesh.Trimesh):\n",
    "        is_closed = alpha_shape.is_watertight\n",
    "        if is_closed:\n",
    "            print(\"The alpha shape is closed (watertight).\")\n",
    "        else:\n",
    "            print(\"The alpha shape is not closed (not watertight).\")\n",
    "    else:\n",
    "        print(\"The alpha shape is not a 3D mesh.\")\n",
    "\n",
    "    points = np.concatenate([points, (alpha_shape.vertices)])\n",
    "\n",
    "plot = k3d.plot()\n",
    "point_size = 0.005\n",
    "plot += k3d.points(positions=points.astype(np.float32), point_size=point_size, color=0x0000ff)\n",
    "plot += k3d.points(positions=(alpha_shape.vertices).astype(np.float32), point_size=point_size, color=0xff00ff)\n",
    "\n",
    "vertices = np.array(alpha_shape.vertices)\n",
    "faces = np.array(alpha_shape.faces)\n",
    "plot += k3d.mesh(vertices=vertices.astype(np.float32),\n",
    "                    indices=faces.astype(np.uint32),\n",
    "                    color=0xff0000,\n",
    "                    opacity=0.5)  # Set opacity for visualization\n",
    "\n",
    "plot.camera_position = [500, 500, 500]  # Move the camera further back for a zoomed-out view\n",
    "plot.camera_target = [0, 0, 0]          # Set the target point (center of the view)\n",
    "plot.camera_up = [0, 1, 0]              # Set the camera's up direction\n",
    "\n",
    "plot.display()\n"
   ]
  },
  {
   "cell_type": "code",
   "execution_count": 7,
   "metadata": {},
   "outputs": [
    {
     "name": "stderr",
     "output_type": "stream",
     "text": [
      "iter:   1%|          | 1/100 [00:02<04:32,  2.76s/it]"
     ]
    },
    {
     "name": "stdout",
     "output_type": "stream",
     "text": [
      "500\n"
     ]
    },
    {
     "name": "stderr",
     "output_type": "stream",
     "text": [
      "iter:   2%|▏         | 2/100 [00:05<04:33,  2.80s/it]"
     ]
    },
    {
     "name": "stdout",
     "output_type": "stream",
     "text": [
      "1014\n"
     ]
    },
    {
     "name": "stderr",
     "output_type": "stream",
     "text": [
      "iter:   3%|▎         | 3/100 [00:08<04:26,  2.75s/it]"
     ]
    },
    {
     "name": "stdout",
     "output_type": "stream",
     "text": [
      "1525\n"
     ]
    },
    {
     "name": "stderr",
     "output_type": "stream",
     "text": [
      "iter:   3%|▎         | 3/100 [00:11<05:55,  3.67s/it]\n"
     ]
    }
   ],
   "source": [
    "import numpy as np\n",
    "import alphashape\n",
    "import trimesh\n",
    "import k3d\n",
    "from tqdm import tqdm\n",
    "from scipy.spatial import KDTree\n",
    "\n",
    "# points = cleaned_points\n",
    "boundary_points = alpha_shape.sample(10000)  # Adjust the number of points as needed\n",
    "\n",
    "com = np.mean(points, axis=0)\n",
    "min_bound = boundary_points.min(axis=0)\n",
    "max_bound = boundary_points.max(axis=0)\n",
    "\n",
    "starting_points = 4000\n",
    "n_inside = 4000  # Number of points to generate\n",
    "n_outside = 8000  # Number of points to generate\n",
    "max_iterations = 100  # Maximum number of iterations to move points towards COM\n",
    "points_inside = []\n",
    "points_outside = []\n",
    "\n",
    "for _ in tqdm(range(max_iterations), desc=\"iter\"):\n",
    "    random_points = np.random.uniform(low=min_bound, high=max_bound, size=(starting_points, 3))\n",
    "    inside_mask = np.array([alpha_shape.contains(point.reshape(1, 3)) for point in random_points])\n",
    "\n",
    "    if len(points_inside) >= n_inside:\n",
    "        break\n",
    "    else:\n",
    "        points_inside.extend(random_points[inside_mask.squeeze()].copy())\n",
    "\n",
    "    if len(points_outside) >= n_outside:\n",
    "        break\n",
    "    else:\n",
    "        points_outside.extend(random_points[~inside_mask.squeeze()].copy())\n",
    "\n",
    "    print(len(points_inside))\n",
    "\n",
    "points_inside = np.array(points_inside)\n",
    "points_outside = np.array(points_outside)\n",
    "boundary_points = alpha_shape.sample(10000)\n"
   ]
  },
  {
   "cell_type": "code",
   "execution_count": 8,
   "metadata": {},
   "outputs": [
    {
     "name": "stderr",
     "output_type": "stream",
     "text": [
      "Calculating normals: 100%|██████████| 10000/10000 [00:00<00:00, 10831.09it/s]\n"
     ]
    }
   ],
   "source": [
    "from scipy.spatial import KDTree\n",
    "\n",
    "# Assuming 'alpha_shape' is a valid mesh and 'cleaned_points' is your input point cloud\n",
    "# points = cleaned_points\n",
    "boundary_points = alpha_shape.sample(10000)  # Adjust the number of boundary points as needed\n",
    "kdtree = KDTree(alpha_shape.vertices)\n",
    "\n",
    "# Calculate normals for boundary points\n",
    "com = np.mean(points, axis=0)\n",
    "normals = []\n",
    "for point in tqdm(boundary_points, desc=\"Calculating normals\"):\n",
    "    distances, indices = kdtree.query(point, k=3)  # Use 3 nearest neighbors to estimate normal\n",
    "    nearest_points = alpha_shape.vertices[indices]\n",
    "\n",
    "    # Calculate the normal using the cross product of vectors formed by the nearest neighbors\n",
    "    v1 = nearest_points[1] - nearest_points[0]\n",
    "    v2 = nearest_points[2] - nearest_points[0]\n",
    "    normal = np.cross(v1, v2)\n",
    "\n",
    "    normal /= np.linalg.norm(normal) + 1e-8  # Add a small epsilon to avoid division by zero\n",
    "    direction_to_com = com - point\n",
    "    if np.dot(normal, direction_to_com) > 0:\n",
    "        # Flip the normal if it points towards the COM\n",
    "        normal = -normal\n",
    "\n",
    "    normals.append(normal)\n",
    "\n",
    "normals = np.array(normals) / 10\n",
    "\n",
    "def offset_boundary_points(boundary_points, com, offset_parameter):\n",
    "    vectors_from_com = boundary_points - com\n",
    "    unit_vectors = vectors_from_com / (np.linalg.norm(vectors_from_com, axis=1, keepdims=True) + 1e-8)\n",
    "    offset_vectors = unit_vectors * offset_parameter\n",
    "    offset_boundary_points = boundary_points + offset_vectors\n",
    "    return offset_boundary_points\n",
    "\n",
    "def calculate_bounds(points):\n",
    "    x_min, x_max = np.min(points[:, 0]), np.max(points[:, 0])\n",
    "    y_min, y_max = np.min(points[:, 1]), np.max(points[:, 1])\n",
    "    z_min, z_max = np.min(points[:, 2]), np.max(points[:, 2])\n",
    "    \n",
    "    return [[x_min, x_max], [y_min, y_max], [z_min, z_max]], (np.array([x_min, y_min, z_min]), np.array([x_max, y_max, z_max]))\n",
    "\n",
    "pts_on_env = offset_boundary_points(boundary_points, com, 0.001)\n",
    "all_points = np.vstack([boundary_points, points_outside, points_inside, pts_on_env])\n",
    "bounds, bounds_coords = calculate_bounds(all_points)\n",
    "bbox_min, bbox_max = bounds_coords\n",
    "\n",
    "center_for_translation = (bbox_max + bbox_min) / 2\n",
    "# scale_factor = max(bbox_max - bbox_min) / 2\n",
    "scale_factor = 1\n",
    "\n",
    "bounds_coords = (bounds_coords - center_for_translation) / scale_factor\n",
    "boundary_points = (boundary_points - center_for_translation) / scale_factor\n",
    "points_outside = (points_outside - center_for_translation) / scale_factor\n",
    "points_inside = (points_inside - center_for_translation) / scale_factor\n",
    "pts_on_env = (pts_on_env - center_for_translation) / scale_factor\n",
    "\n",
    "all_points = np.vstack([boundary_points, points_outside, points_inside, pts_on_env])\n",
    "bounds, _ = calculate_bounds(all_points)"
   ]
  },
  {
   "cell_type": "code",
   "execution_count": 9,
   "metadata": {},
   "outputs": [
    {
     "data": {
      "application/vnd.jupyter.widget-view+json": {
       "model_id": "9111fc1ca4c04599b657554ef9a8ce54",
       "version_major": 2,
       "version_minor": 0
      },
      "text/plain": [
       "Output()"
      ]
     },
     "metadata": {},
     "output_type": "display_data"
    }
   ],
   "source": [
    "point_size = 0.01\n",
    "plot = k3d.plot()\n",
    "# plot += k3d.points(positions=points.astype(np.float32), point_size=point_size, color=0xff0000)\n",
    "\n",
    "plot += k3d.points(positions=boundary_points.astype(np.float32), point_size=point_size, color=0x0000ff)\n",
    "# plot += k3d.vectors(boundary_points.astype(np.float32), normals.astype(np.float32), color=0x0000ff, line_width=0.001, head_size=0.02)\n",
    "\n",
    "plot += k3d.points(positions=points_inside.astype(np.float32), point_size=point_size, color=0xfff000)\n",
    "plot += k3d.points(positions=points_outside.astype(np.float32), point_size=point_size, color=0x0ffff0)\n",
    "plot += k3d.points(positions=pts_on_env.astype(np.float32), point_size=point_size, color=0xaaa0ff)\n",
    "\n",
    "# vertices = np.array(alpha_shape.vertices)\n",
    "# faces = np.array(alpha_shape.faces)\n",
    "# plot += k3d.mesh(vertices=vertices.astype(np.float32),\n",
    "#                     indices=faces.astype(np.uint32),\n",
    "#                     color=0xff0000,\n",
    "#                     opacity=0.5)  # Set opacity for visualization\n",
    "\n",
    "plot.camera_position = [500, 500, 500]  # Move the camera further back for a zoomed-out view\n",
    "plot.camera_target = [0, 0, 0]          # Set the target point (center of the view)\n",
    "plot.camera_up = [0, 1, 0]              # Set the camera's up direction\n",
    "\n",
    "plot.display()"
   ]
  },
  {
   "cell_type": "code",
   "execution_count": 10,
   "metadata": {},
   "outputs": [
    {
     "name": "stdout",
     "output_type": "stream",
     "text": [
      "saving bounds: [[-0.49460269793817585, 0.49460269793817585], [-0.4988967760598918, 0.4988967760598918], [-0.4964279473317935, 0.49642794733179346]]\n",
      "saving scale_factor.npy: 1\n",
      "saving env_outside_pts: (10475, 3)\n",
      "saving pts_inside: (2029, 3)\n",
      "saving pts_on_env: (10000, 3)\n",
      "saving interface_pts: (10000, 3)\n",
      "saving interface_normals: (10000, 3)\n"
     ]
    }
   ],
   "source": [
    "## Save points to file\n",
    "## transpose to match the convention of the other code\n",
    "import os\n",
    "\n",
    "save_dir = 'tmp_outs'\n",
    "if not os.path.exists(save_dir): os.makedirs(save_dir)\n",
    "\n",
    "print('saving bounds:', bounds)\n",
    "np.save(f'{save_dir}/bounds.npy', bounds)\n",
    "\n",
    "print('saving scale_factor.npy:', scale_factor)\n",
    "np.save(f'{save_dir}/scale_factor.npy', scale_factor)\n",
    "\n",
    "print('saving env_outside_pts:', points_outside.shape)\n",
    "np.save(f'{save_dir}/env_outside_pts.npy', points_outside)\n",
    "\n",
    "print('saving pts_inside:', points_inside.shape)\n",
    "np.save(f'{save_dir}/pts_inside.npy', points_inside)\n",
    "\n",
    "print('saving pts_on_env:', pts_on_env.shape)\n",
    "np.save(f'{save_dir}/pts_on_env.npy', pts_on_env)\n",
    "\n",
    "print('saving interface_pts:', boundary_points.shape)\n",
    "np.save(f\"{save_dir}/interface_pts.npy\", boundary_points)\n",
    "\n",
    "print('saving interface_normals:', normals.shape)\n",
    "np.save(f\"{save_dir}/interface_normals.npy\", normals)\n",
    "\n",
    "# print('saving pts_around_interface_outside_env:', pts_around_interface_outside_env.shape)\n",
    "# np.save(f\"{save_dir}/pts_around_interface_outside_env.npy\", pts_around_interface_outside_env)"
   ]
  },
  {
   "cell_type": "code",
   "execution_count": 11,
   "metadata": {},
   "outputs": [],
   "source": [
    "# import open3d as o3d\n",
    "# import numpy as np\n",
    "# import k3d\n",
    "\n",
    "# # Example point cloud (replace with your actual data)\n",
    "# points = cleaned_points * 100  # Replace with your point cloud data\n",
    "# mypoints = points.copy()\n",
    "# voxel_size = 5  # Adjust voxel size as needed\n",
    "# alph = .75\n",
    "\n",
    "# # Calculate the center of mass (COM)\n",
    "# com = np.mean(points, axis=0)\n",
    "\n",
    "# max_iters = 10\n",
    "# for i in range(max_iters):\n",
    "#     pcd = o3d.geometry.PointCloud()\n",
    "#     pcd.points = o3d.utility.Vector3dVector(points)\n",
    "#     voxel_grid = o3d.geometry.VoxelGrid.create_from_point_cloud(pcd, voxel_size=voxel_size)\n",
    "\n",
    "#     interior_points = []\n",
    "#     outer_points = []\n",
    "#     for voxel in voxel_grid.get_voxels():\n",
    "#         voxel_center = voxel.grid_index * voxel_size + voxel_grid.origin\n",
    "\n",
    "#         corners = [\n",
    "#             voxel_center + np.array([dx, dy, dz]) * (voxel_size / 2)\n",
    "#             for dx in [-1, 1]\n",
    "#             for dy in [-1, 1]\n",
    "#             for dz in [-1, 1]\n",
    "#         ]\n",
    "\n",
    "#         distances = [np.linalg.norm(corner - com) for corner in corners]\n",
    "#         closest_corner = corners[np.argmin(distances)]\n",
    "\n",
    "#         interior_points.append(closest_corner)\n",
    "\n",
    "#     interior_points = np.array(interior_points)\n",
    "#     points = np.concatenate([points, interior_points])\n",
    "#     voxel_size *= alph\n",
    "\n",
    "# # Visualization using k3d\n",
    "# plot = k3d.plot()\n",
    "# point_size = 1\n",
    "# plot += k3d.points(positions=mypoints.astype(np.float32), point_size=point_size, color=0x0000ff)  # Original points\n",
    "# plot += k3d.points(positions=interior_points.astype(np.float32), point_size=point_size, color=0x00ff00)  # Interior points\n",
    "# plot += k3d.points(positions=(com.reshape(1, -1)).astype(np.float32), point_size=point_size, color=0xffff00)  # Interior points\n",
    "# plot.display()\n"
   ]
  },
  {
   "cell_type": "code",
   "execution_count": 12,
   "metadata": {},
   "outputs": [],
   "source": [
    "# from scipy.spatial import Delaunay\n",
    "# import numpy as np\n",
    "\n",
    "# # Example point cloud (replace with your data)\n",
    "# points = cleaned_points * 100\n",
    "\n",
    "# # Create a 3D Delaunay triangulation\n",
    "# tri = Delaunay(points)\n",
    "\n",
    "# # Generate random points within the bounding box\n",
    "# num_points_to_generate = 10000\n",
    "# min_bound = points.min(axis=0)\n",
    "# max_bound = points.max(axis=0)\n",
    "# random_points = np.random.uniform(low=min_bound, high=max_bound, size=(num_points_to_generate, 3))\n",
    "\n",
    "# # Check if random points are inside the Delaunay triangulation\n",
    "# is_inside = tri.find_simplex(random_points) >= 0\n",
    "# interior_points = random_points[is_inside]\n",
    "\n",
    "# # Visualization with k3d (optional)\n",
    "# plot = k3d.plot()\n",
    "# point_size = 1\n",
    "# plot += k3d.points(positions=points.astype(np.float32), point_size=point_size, color=0x0000ff)  # Original points\n",
    "# plot += k3d.points(positions=interior_points.astype(np.float32), point_size=point_size, color=0x00ff00)  # Interior points\n",
    "# plot.display()"
   ]
  }
 ],
 "metadata": {
  "kernelspec": {
   "display_name": ".venv",
   "language": "python",
   "name": "python3"
  },
  "language_info": {
   "codemirror_mode": {
    "name": "ipython",
    "version": 3
   },
   "file_extension": ".py",
   "mimetype": "text/x-python",
   "name": "python",
   "nbconvert_exporter": "python",
   "pygments_lexer": "ipython3",
   "version": "3.11.6"
  }
 },
 "nbformat": 4,
 "nbformat_minor": 2
}
