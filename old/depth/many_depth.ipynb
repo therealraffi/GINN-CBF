{
 "cells": [
  {
   "cell_type": "code",
   "execution_count": 1,
   "metadata": {},
   "outputs": [
    {
     "name": "stdout",
     "output_type": "stream",
     "text": [
      "Jupyter environment detected. Enabling Open3D WebVisualizer.\n",
      "[Open3D INFO] WebRTC GUI backend enabled.\n",
      "[Open3D INFO] WebRTCWindowSystem: HTTP handshake server disabled.\n"
     ]
    }
   ],
   "source": [
    "import open3d as o3d\n",
    "import numpy as np\n",
    "import os\n",
    "import k3d\n",
    "import glob"
   ]
  },
  {
   "cell_type": "code",
   "execution_count": 2,
   "metadata": {},
   "outputs": [],
   "source": [
    "# Set up paths\n",
    "folder_name = \"brown_bm_1\"\n",
    "\n",
    "color_folder = f\"../datasets/SUN3d/{folder_name}/image\"\n",
    "depth_folder = f\"../datasets/SUN3d/{folder_name}/depth\"\n",
    "extrinsics_file = f\"../datasets/SUN3d/{folder_name}/extrinsics/20130512130736.txt\"\n",
    "output_path = f\"../datasets/SUN3d/{folder_name}/combined_point_cloud.ply\"\n",
    "intrinsics_file = f'../datasets/SUN3d/{folder_name}/intrinsics.txt'\n",
    "\n",
    "def load_intrinsics(filepath):\n",
    "    # Read the 3x3 intrinsic matrix from file\n",
    "    with open(filepath, 'r') as file:\n",
    "        lines = file.readlines()\n",
    "    # Parse lines into a 3x3 NumPy array\n",
    "    intrinsic_matrix = np.array([list(map(float, line.split())) for line in lines])\n",
    "    return intrinsic_matrix\n",
    "\n",
    "# Path to your intrinsics file\n",
    "intrinsic_matrix = load_intrinsics(intrinsics_file)\n",
    "width, height = 640, 480  # Replace with actual image dimensions if different\n",
    "camera_intrinsic = o3d.camera.PinholeCameraIntrinsic(\n",
    "    width=width,\n",
    "    height=height,\n",
    "    fx=intrinsic_matrix[0, 0],\n",
    "    fy=intrinsic_matrix[1, 1],\n",
    "    cx=intrinsic_matrix[0, 2],\n",
    "    cy=intrinsic_matrix[1, 2]\n",
    ")"
   ]
  },
  {
   "cell_type": "code",
   "execution_count": 4,
   "metadata": {},
   "outputs": [],
   "source": [
    "# Load extrinsic matrices from the text file\n",
    "def load_extrinsics(filepath):\n",
    "    extrinsics = []\n",
    "    with open(filepath, 'r') as file:\n",
    "        lines = file.readlines()\n",
    "    for i in range(0, len(lines), 4):  # Each extrinsic is represented by 4 lines\n",
    "        matrix = np.array([list(map(float, line.split())) for line in lines[i:i+4]])\n",
    "        extrinsics.append(matrix)\n",
    "    return extrinsics\n",
    "\n",
    "extrinsic_matrices = load_extrinsics(extrinsics_file)"
   ]
  },
  {
   "cell_type": "code",
   "execution_count": 5,
   "metadata": {},
   "outputs": [
    {
     "ename": "",
     "evalue": "",
     "output_type": "error",
     "traceback": [
      "\u001b[1;31mThe Kernel crashed while executing code in the current cell or a previous cell. \n",
      "\u001b[1;31mPlease review the code in the cell(s) to identify a possible cause of the failure. \n",
      "\u001b[1;31mClick <a href='https://aka.ms/vscodeJupyterKernelCrash'>here</a> for more info. \n",
      "\u001b[1;31mView Jupyter <a href='command:jupyter.viewOutput'>log</a> for further details."
     ]
    }
   ],
   "source": [
    "# Initialize combined point cloud\n",
    "combined_pcd = o3d.geometry.PointCloud()\n",
    "\n",
    "# Load RGB and depth images\n",
    "color_images = sorted(glob.glob(os.path.join(color_folder, '*.jpg')))\n",
    "depth_images = sorted(glob.glob(os.path.join(depth_folder, '*.png')))\n",
    "num_files = 2\n",
    "\n",
    "for i, (color_path, depth_path, extrinsic) in enumerate(zip(color_images, depth_images, extrinsic_matrices)):\n",
    "    if i >= num_files:\n",
    "        break\n",
    "\n",
    "    print(i, color_path, extrinsic)\n",
    "\n",
    "    color_raw = o3d.io.read_image(color_path)\n",
    "    depth_raw = o3d.io.read_image(depth_path)\n",
    "\n",
    "    rgbd_image = o3d.geometry.RGBDImage.create_from_color_and_depth(\n",
    "        color_raw, depth_raw, convert_rgb_to_intensity=False\n",
    "    )\n",
    "\n",
    "    pcd = o3d.geometry.PointCloud.create_from_rgbd_image(rgbd_image, camera_intrinsic)\n",
    "\n",
    "    pcd.transform(extrinsic)\n",
    "    combined_pcd += pcd  # Add to combined point cloud"
   ]
  },
  {
   "cell_type": "code",
   "execution_count": null,
   "metadata": {},
   "outputs": [
    {
     "data": {
      "application/vnd.jupyter.widget-view+json": {
       "model_id": "7f961f084e144e888ff4c2797ee42584",
       "version_major": 2,
       "version_minor": 0
      },
      "text/plain": [
       "Output()"
      ]
     },
     "metadata": {},
     "output_type": "display_data"
    }
   ],
   "source": [
    "o3d.io.write_point_cloud(output_path, combined_pcd)\n",
    "\n",
    "points = np.asarray(combined_pcd.points) / 10\n",
    "colors = np.asarray(combined_pcd.colors) if combined_pcd.has_colors() else np.ones(points.shape)\n",
    "\n",
    "colors = (colors * 255).astype(np.uint8)\n",
    "colors = (colors[:, 0] << 16 | colors[:, 1] << 8 | colors[:, 2]).astype(np.uint32)\n",
    "\n",
    "plot = k3d.plot()\n",
    "point_cloud = k3d.points(positions=points.astype(np.float32),\n",
    "                         colors=colors,\n",
    "                         point_size=0.001)\n",
    "plot += point_cloud\n",
    "plot.display()"
   ]
  }
 ],
 "metadata": {
  "kernelspec": {
   "display_name": "depth-env",
   "language": "python",
   "name": "python3"
  },
  "language_info": {
   "codemirror_mode": {
    "name": "ipython",
    "version": 3
   },
   "file_extension": ".py",
   "mimetype": "text/x-python",
   "name": "python",
   "nbconvert_exporter": "python",
   "pygments_lexer": "ipython3",
   "version": "3.11.6"
  }
 },
 "nbformat": 4,
 "nbformat_minor": 2
}
